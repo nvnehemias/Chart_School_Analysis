{
 "cells": [
  {
   "cell_type": "code",
   "execution_count": 1,
   "metadata": {},
   "outputs": [],
   "source": [
    "import pandas as pd\n",
    "import matplotlib.pyplot as plt\n",
    "import numpy as np"
   ]
  },
  {
   "cell_type": "code",
   "execution_count": 2,
   "metadata": {},
   "outputs": [
    {
     "name": "stdout",
     "output_type": "stream",
     "text": [
      "[WinError 2] The system cannot find the file specified: 'Chart_School_Analysis/'\n",
      "C:\\Users\\nvicente\\Documents\\Random\\Jupyter Notebook\\Chart_School_Analysis\n"
     ]
    }
   ],
   "source": [
    "cd Chart_School_Analysis/"
   ]
  },
  {
   "cell_type": "code",
   "execution_count": 3,
   "metadata": {},
   "outputs": [],
   "source": [
    "df = pd.read_csv(\"StudentApplications.csv\")"
   ]
  },
  {
   "cell_type": "code",
   "execution_count": 4,
   "metadata": {
    "jupyter": {
     "source_hidden": true
    }
   },
   "outputs": [],
   "source": [
    "df = df.fillna(\" \")"
   ]
  },
  {
   "cell_type": "code",
   "execution_count": 5,
   "metadata": {
    "jupyter": {
     "source_hidden": true
    }
   },
   "outputs": [],
   "source": [
    "def join_names(first,middle,last):\n",
    "    first = first.tolist()\n",
    "    last = last.tolist()\n",
    "    new_name = []\n",
    "    \n",
    "    try:\n",
    "        middle = middle.tolist()\n",
    "        for i in range(len(first)):\n",
    "            if middle != \" \":\n",
    "                new_name.append(f\"{first[i]} {middle[i]} {last[i]}\")\n",
    "            else:\n",
    "                new_name.append(f\"{first[i]}{last[i]}\")\n",
    "    except:\n",
    "        for i in range(len(first)):\n",
    "            new_name.append(f\"{first[i]} {last[i]}\")\n",
    "        \n",
    "    return new_name"
   ]
  },
  {
   "cell_type": "code",
   "execution_count": 6,
   "metadata": {
    "jupyter": {
     "source_hidden": true
    }
   },
   "outputs": [],
   "source": [
    "def merge_address(street1,street2,zipcode,state,city):\n",
    "    street1 = street1.tolist() \n",
    "    street2 = street2.tolist()\n",
    "    zipcode = zipcode.tolist()\n",
    "    state = state.tolist()\n",
    "    city = city.tolist()\n",
    "    address = []\n",
    "    for i in range(len(street1)):\n",
    "        address.append(f\"{street1[i]} {street2[i]} {zipcode[i]} {state[i]} {city[i]}\")\n",
    "        \n",
    "    return address"
   ]
  },
  {
   "cell_type": "code",
   "execution_count": 7,
   "metadata": {
    "jupyter": {
     "source_hidden": true
    }
   },
   "outputs": [],
   "source": [
    "def birthday(birthday):\n",
    "    birth_date = birthday.tolist()\n",
    "    new_bday = []\n",
    "    for i in birthday:\n",
    "        year,month,day = i.split(\"-\")\n",
    "        new_bday.append(f\"{month}/{day}/{year[2:]}\")\n",
    "    \n",
    "    return new_bday"
   ]
  },
  {
   "cell_type": "code",
   "execution_count": 8,
   "metadata": {
    "jupyter": {
     "source_hidden": true
    }
   },
   "outputs": [],
   "source": [
    "def phone_number(number):\n",
    "    number = str(number)\n",
    "    return f\"({number[:3]}) {number[3:6]}-{number[6:]}\""
   ]
  },
  {
   "cell_type": "code",
   "execution_count": 311,
   "metadata": {},
   "outputs": [],
   "source": [
    "def appplication_type(app_type):\n",
    "    type_dic = {\"WA\": \"Waitlisted\",\"CA\": \"Canceled\",\"DE\": \"Declined\",\"RV\": \"Registration Verified\",\"RS\": \\\n",
    "                \"Rescinded\",\"WD\": \"Withdrawn\",\"AC\": \"Accepted\",\"RP\": \"Registration in Progress\",\"OF\": \"Offered\",\"SU\": \"Submitted\",}\n",
    "    app_type = type_dic.get(app_type)\n",
    "    \n",
    "    return app_type"
   ]
  },
  {
   "cell_type": "code",
   "execution_count": 10,
   "metadata": {
    "jupyter": {
     "source_hidden": true
    }
   },
   "outputs": [],
   "source": [
    "def status_waitlisted(status, waitlist): \n",
    "    status_list = status.tolist()\n",
    "    waitlist_list = waitlist.tolist()\n",
    "\n",
    "    for i in range(len(status_list)):\n",
    "        if status_list[i] == \"Waitlisted\":\n",
    "            status_list[i] = f\"{status_list[i]}-{waitlist_list[i]}\"\n",
    "            \n",
    "    return status_list"
   ]
  },
  {
   "cell_type": "code",
   "execution_count": 11,
   "metadata": {
    "jupyter": {
     "source_hidden": true
    }
   },
   "outputs": [],
   "source": [
    "def clean_timestamp(timestamp):\n",
    "        return timestamp[:-6]"
   ]
  },
  {
   "cell_type": "code",
   "execution_count": 12,
   "metadata": {},
   "outputs": [],
   "source": [
    "df[\"Student Name\"] = join_names(df[\"first_name\"],df[\"middle_name\"],df[\"last_name\"])\n",
    "df[\"Parent Name\"] = join_names(df[\"guardian_first_name\"],\"no name\",df[\"guardian_last_name\"])\n",
    "df[\"Address\"] = merge_address(df[\"street1\"],df[\"street2\"],df[\"zipcode\"],df[\"state\"],df[\"city\"])\n",
    "df[\"Birthday\"] = birthday(df[\"birth_date\"])\n",
    "# Change M to Male and F to Female\n",
    "gender_dic = {\"M\":\"Male\",\"F\":\"Female\",\"nan\":\"Unknown\"}\n",
    "df[\"Gender\"] = df[\"gender\"].map(lambda x: gender_dic.get(x))\n",
    "df[\"Contact Number\"] = df[\"phone_number\"].apply(phone_number)\n",
    "app_dic = {\"OE\":\"Open Enrollment\",\"PE\":\"Post Enrollment\"}\n",
    "df[\"Application Type\"] = df[\"application_type\"].map(lambda x: app_dic.get(x))\n",
    "df[\"Status\"] = df[\"status\"].apply(appplication_type)\n",
    "df[\"Status\"] = status_waitlisted(df[\"Status\"],df[\"waitlist_number\"]) \n",
    "df[\"Time Stamp\"] = df[\"status_timestamp\"].apply(clean_timestamp)\n",
    "df[\"Updated\"] = df[\"updated_at\"].apply(clean_timestamp)"
   ]
  },
  {
   "cell_type": "code",
   "execution_count": 13,
   "metadata": {},
   "outputs": [],
   "source": [
    "df = df.drop(columns = [\"application_id\",\"account_id\",\"student_id\",\"applicant_id\",\"sis_id\",\"sis_local_id\",\"street1\",\"street2\",\"zipcode\",\"state\",\"city\",\\\n",
    "                       \"application_type\",\"status\",\"first_name\",\"middle_name\",\"last_name\",\"birth_date\",\"gender\",\"phone_number\",\"created_by\",\"guardian_first_name\",\"guardian_last_name\"\\\n",
    "                       ,\"waitlist_number\",\"school_group\",\"priorities\",\"home_phone_number\",\"status_timestamp\",\"updated_at\"])"
   ]
  },
  {
   "cell_type": "code",
   "execution_count": 14,
   "metadata": {},
   "outputs": [],
   "source": [
    "df = df.rename(columns = {\"grade_name\":\"Grade Applied To\",\"current_grade_level\":\"Current Grade\",\"preferred_language\":\"Preferred Language\"\\\n",
    "                         ,\"email\":\"Email\",\"lives_with\":\"Lives With\",\"school_name\":\"School Applied To\",\"current_school_name\":\"Current School\",\\\n",
    "                          \"district_name\":\"Current School District\",\"submission_date\":\"Date Submitted\",\"offered_date\":\"Offered Date\"\\\n",
    "                         ,\"offer_accepted_date\":\"Offer Accepted Date\"})"
   ]
  },
  {
   "cell_type": "code",
   "execution_count": 15,
   "metadata": {
    "jupyter": {
     "source_hidden": true
    }
   },
   "outputs": [
    {
     "data": {
      "text/html": [
       "<div>\n",
       "<style scoped>\n",
       "    .dataframe tbody tr th:only-of-type {\n",
       "        vertical-align: middle;\n",
       "    }\n",
       "\n",
       "    .dataframe tbody tr th {\n",
       "        vertical-align: top;\n",
       "    }\n",
       "\n",
       "    .dataframe thead th {\n",
       "        text-align: right;\n",
       "    }\n",
       "</style>\n",
       "<table border=\"1\" class=\"dataframe\">\n",
       "  <thead>\n",
       "    <tr style=\"text-align: right;\">\n",
       "      <th></th>\n",
       "      <th>Email</th>\n",
       "      <th>Lives With</th>\n",
       "      <th>Date Submitted</th>\n",
       "      <th>Offered Date</th>\n",
       "      <th>Offer Accepted Date</th>\n",
       "      <th>Current Grade</th>\n",
       "      <th>Grade Applied To</th>\n",
       "      <th>School Applied To</th>\n",
       "      <th>Current School</th>\n",
       "      <th>Current School District</th>\n",
       "      <th>...</th>\n",
       "      <th>Student Name</th>\n",
       "      <th>Parent Name</th>\n",
       "      <th>Address</th>\n",
       "      <th>Birthday</th>\n",
       "      <th>Gender</th>\n",
       "      <th>Contact Number</th>\n",
       "      <th>Application Type</th>\n",
       "      <th>Status</th>\n",
       "      <th>Time Stamp</th>\n",
       "      <th>Updated</th>\n",
       "    </tr>\n",
       "  </thead>\n",
       "  <tbody>\n",
       "    <tr>\n",
       "      <th>0</th>\n",
       "      <td>hildaj06@outlook.com</td>\n",
       "      <td>MO|FA</td>\n",
       "      <td>09/04/2018 05:55:07 PDT</td>\n",
       "      <td></td>\n",
       "      <td></td>\n",
       "      <td>8</td>\n",
       "      <td>9</td>\n",
       "      <td>USC Hybrid High School</td>\n",
       "      <td></td>\n",
       "      <td>Los Angeles Unified School District</td>\n",
       "      <td>...</td>\n",
       "      <td>Kevin   Garcia</td>\n",
       "      <td>Hilda Javier</td>\n",
       "      <td>2741 Van Buren Pl Apt 02 90007 CA Los Angeles</td>\n",
       "      <td>11/20/05</td>\n",
       "      <td>Male</td>\n",
       "      <td>(323) 928-8844</td>\n",
       "      <td>Open Enrollment</td>\n",
       "      <td>Waitlisted-682</td>\n",
       "      <td>2019-02-12 18:46:31</td>\n",
       "      <td>2019-12-03 13:41:48</td>\n",
       "    </tr>\n",
       "    <tr>\n",
       "      <th>1</th>\n",
       "      <td>malvagrant@yahoo.com</td>\n",
       "      <td>MO|FA</td>\n",
       "      <td>09/04/2018 06:01:24 PDT</td>\n",
       "      <td></td>\n",
       "      <td></td>\n",
       "      <td>8</td>\n",
       "      <td>9</td>\n",
       "      <td>USC Hybrid High School</td>\n",
       "      <td></td>\n",
       "      <td>Los Angeles Unified School District</td>\n",
       "      <td>...</td>\n",
       "      <td>Jazmine Alesha Betson</td>\n",
       "      <td>Malva Palacio- Grant</td>\n",
       "      <td>622 W 77th St Apt 6 90044 CA Los Angeles</td>\n",
       "      <td>07/24/04</td>\n",
       "      <td>Female</td>\n",
       "      <td>(323) 527-6738</td>\n",
       "      <td>Open Enrollment</td>\n",
       "      <td>Waitlisted-307</td>\n",
       "      <td>2019-02-12 18:46:09</td>\n",
       "      <td>2019-12-03 13:41:09</td>\n",
       "    </tr>\n",
       "    <tr>\n",
       "      <th>2</th>\n",
       "      <td>3234453696@schoolmint.net</td>\n",
       "      <td>MO</td>\n",
       "      <td>09/04/2018 07:59:07 PDT</td>\n",
       "      <td></td>\n",
       "      <td></td>\n",
       "      <td>10</td>\n",
       "      <td>11</td>\n",
       "      <td>USC Hybrid High School</td>\n",
       "      <td></td>\n",
       "      <td>Los Angeles Unified School District</td>\n",
       "      <td>...</td>\n",
       "      <td>Teryn O Johnson</td>\n",
       "      <td>Terrea Moore</td>\n",
       "      <td>4126 2nd Avenue   90008 CA Los Angeles</td>\n",
       "      <td>04/21/03</td>\n",
       "      <td>Male</td>\n",
       "      <td>(323) 445-3696</td>\n",
       "      <td>Open Enrollment</td>\n",
       "      <td>Waitlisted-22</td>\n",
       "      <td>2019-02-12 18:29:20</td>\n",
       "      <td>2019-10-28 15:54:12</td>\n",
       "    </tr>\n",
       "    <tr>\n",
       "      <th>3</th>\n",
       "      <td>dalamonte4@gmail.com</td>\n",
       "      <td>FA</td>\n",
       "      <td>09/04/2018 08:53:43 PDT</td>\n",
       "      <td></td>\n",
       "      <td></td>\n",
       "      <td>8</td>\n",
       "      <td>9</td>\n",
       "      <td>USC Hybrid High School</td>\n",
       "      <td></td>\n",
       "      <td>Los Angeles Unified School District</td>\n",
       "      <td>...</td>\n",
       "      <td>Uryiah Elizabeth Brown</td>\n",
       "      <td>Davion Brown</td>\n",
       "      <td>735 1/2 W 42nd St   90037 CA Los Angeles</td>\n",
       "      <td>03/18/05</td>\n",
       "      <td>Female</td>\n",
       "      <td>(323) 353-4559</td>\n",
       "      <td>Open Enrollment</td>\n",
       "      <td>Waitlisted-665</td>\n",
       "      <td>2019-02-12 18:46:30</td>\n",
       "      <td>2019-12-03 13:41:46</td>\n",
       "    </tr>\n",
       "    <tr>\n",
       "      <th>4</th>\n",
       "      <td>teresanonoal@gmail.com</td>\n",
       "      <td>MO</td>\n",
       "      <td>09/04/2018 09:14:57 PDT</td>\n",
       "      <td></td>\n",
       "      <td></td>\n",
       "      <td>9</td>\n",
       "      <td>9</td>\n",
       "      <td>USC Hybrid High School</td>\n",
       "      <td></td>\n",
       "      <td>Los Angeles Unified School District</td>\n",
       "      <td>...</td>\n",
       "      <td>Medeline   Garcia</td>\n",
       "      <td>Theresa Nonoal</td>\n",
       "      <td>212 E 30th St   90011 CA Los Angeles</td>\n",
       "      <td>07/15/04</td>\n",
       "      <td>Female</td>\n",
       "      <td>(232) 620-8391</td>\n",
       "      <td>Open Enrollment</td>\n",
       "      <td>Waitlisted-42</td>\n",
       "      <td>2019-02-12 18:45:53</td>\n",
       "      <td>2019-12-03 13:40:40</td>\n",
       "    </tr>\n",
       "  </tbody>\n",
       "</table>\n",
       "<p>5 rows × 21 columns</p>\n",
       "</div>"
      ],
      "text/plain": [
       "                       Email Lives With           Date Submitted Offered Date  \\\n",
       "0       hildaj06@outlook.com      MO|FA  09/04/2018 05:55:07 PDT                \n",
       "1       malvagrant@yahoo.com      MO|FA  09/04/2018 06:01:24 PDT                \n",
       "2  3234453696@schoolmint.net         MO  09/04/2018 07:59:07 PDT                \n",
       "3       dalamonte4@gmail.com         FA  09/04/2018 08:53:43 PDT                \n",
       "4     teresanonoal@gmail.com         MO  09/04/2018 09:14:57 PDT                \n",
       "\n",
       "  Offer Accepted Date Current Grade  Grade Applied To       School Applied To  \\\n",
       "0                                 8                 9  USC Hybrid High School   \n",
       "1                                 8                 9  USC Hybrid High School   \n",
       "2                                10                11  USC Hybrid High School   \n",
       "3                                 8                 9  USC Hybrid High School   \n",
       "4                                 9                 9  USC Hybrid High School   \n",
       "\n",
       "  Current School              Current School District  ...  \\\n",
       "0                 Los Angeles Unified School District  ...   \n",
       "1                 Los Angeles Unified School District  ...   \n",
       "2                 Los Angeles Unified School District  ...   \n",
       "3                 Los Angeles Unified School District  ...   \n",
       "4                 Los Angeles Unified School District  ...   \n",
       "\n",
       "             Student Name           Parent Name  \\\n",
       "0          Kevin   Garcia          Hilda Javier   \n",
       "1   Jazmine Alesha Betson  Malva Palacio- Grant   \n",
       "2         Teryn O Johnson          Terrea Moore   \n",
       "3  Uryiah Elizabeth Brown          Davion Brown   \n",
       "4       Medeline   Garcia        Theresa Nonoal   \n",
       "\n",
       "                                         Address  Birthday  Gender  \\\n",
       "0  2741 Van Buren Pl Apt 02 90007 CA Los Angeles  11/20/05    Male   \n",
       "1       622 W 77th St Apt 6 90044 CA Los Angeles  07/24/04  Female   \n",
       "2         4126 2nd Avenue   90008 CA Los Angeles  04/21/03    Male   \n",
       "3       735 1/2 W 42nd St   90037 CA Los Angeles  03/18/05  Female   \n",
       "4           212 E 30th St   90011 CA Los Angeles  07/15/04  Female   \n",
       "\n",
       "   Contact Number Application Type          Status           Time Stamp  \\\n",
       "0  (323) 928-8844  Open Enrollment  Waitlisted-682  2019-02-12 18:46:31   \n",
       "1  (323) 527-6738  Open Enrollment  Waitlisted-307  2019-02-12 18:46:09   \n",
       "2  (323) 445-3696  Open Enrollment   Waitlisted-22  2019-02-12 18:29:20   \n",
       "3  (323) 353-4559  Open Enrollment  Waitlisted-665  2019-02-12 18:46:30   \n",
       "4  (232) 620-8391  Open Enrollment   Waitlisted-42  2019-02-12 18:45:53   \n",
       "\n",
       "               Updated  \n",
       "0  2019-12-03 13:41:48  \n",
       "1  2019-12-03 13:41:09  \n",
       "2  2019-10-28 15:54:12  \n",
       "3  2019-12-03 13:41:46  \n",
       "4  2019-12-03 13:40:40  \n",
       "\n",
       "[5 rows x 21 columns]"
      ]
     },
     "execution_count": 15,
     "metadata": {},
     "output_type": "execute_result"
    }
   ],
   "source": [
    "df.head()"
   ]
  },
  {
   "cell_type": "code",
   "execution_count": 16,
   "metadata": {},
   "outputs": [],
   "source": [
    "df = df.to_csv(\"Clean_Ednovate.csv\")\n",
    "df = pd.read_csv(\"Clean_Ednovate.csv\")\n",
    "df = df.drop(columns = [\"Unnamed: 0\"])"
   ]
  },
  {
   "cell_type": "code",
   "execution_count": 17,
   "metadata": {},
   "outputs": [],
   "source": [
    "count_by_school = df.groupby([\"School Applied To\"]).count()[[\"Student Name\"]].reset_index()"
   ]
  },
  {
   "cell_type": "code",
   "execution_count": 18,
   "metadata": {},
   "outputs": [],
   "source": [
    "x = count_by_school[\"School Applied To\"]\n",
    "y = count_by_school[\"Student Name\"]"
   ]
  },
  {
   "cell_type": "code",
   "execution_count": 19,
   "metadata": {},
   "outputs": [
    {
     "data": {
      "image/png": "[encoded data removed]",
      "text/plain": [
       "<Figure size 1080x360 with 1 Axes>"
      ]
     },
     "metadata": {
      "needs_background": "light"
     },
     "output_type": "display_data"
    }
   ],
   "source": [
    "plt.figure(figsize = (15,5))\n",
    "plt.bar(x,y)\n",
    "plt.xlabel(\"School\")\n",
    "plt.ylabel(\"Total\")\n",
    "plt.title(\"Total Applications by School\")\n",
    "\n",
    "plt.show()"
   ]
  },
  {
   "cell_type": "markdown",
   "metadata": {},
   "source": [
    "# Clean Data To Create Gender Graphs"
   ]
  },
  {
   "cell_type": "code",
   "execution_count": 20,
   "metadata": {},
   "outputs": [],
   "source": [
    "df_test = df.set_index(\"School Applied To\")[[\"Gender\"]].reset_index()"
   ]
  },
  {
   "cell_type": "code",
   "execution_count": 21,
   "metadata": {},
   "outputs": [],
   "source": [
    "df_test = df_test.sort_values(by = \"Gender\")"
   ]
  },
  {
   "cell_type": "code",
   "execution_count": 22,
   "metadata": {},
   "outputs": [],
   "source": [
    "df_test.fillna(\"Unknown\",inplace = True)"
   ]
  },
  {
   "cell_type": "code",
   "execution_count": 23,
   "metadata": {},
   "outputs": [
    {
     "data": {
      "text/html": [
       "<div>\n",
       "<style scoped>\n",
       "    .dataframe tbody tr th:only-of-type {\n",
       "        vertical-align: middle;\n",
       "    }\n",
       "\n",
       "    .dataframe tbody tr th {\n",
       "        vertical-align: top;\n",
       "    }\n",
       "\n",
       "    .dataframe thead th {\n",
       "        text-align: right;\n",
       "    }\n",
       "</style>\n",
       "<table border=\"1\" class=\"dataframe\">\n",
       "  <thead>\n",
       "    <tr style=\"text-align: right;\">\n",
       "      <th></th>\n",
       "      <th>School Applied To</th>\n",
       "    </tr>\n",
       "    <tr>\n",
       "      <th>Gender</th>\n",
       "      <th></th>\n",
       "    </tr>\n",
       "  </thead>\n",
       "  <tbody>\n",
       "    <tr>\n",
       "      <th>Female</th>\n",
       "      <td>1740</td>\n",
       "    </tr>\n",
       "    <tr>\n",
       "      <th>Male</th>\n",
       "      <td>1385</td>\n",
       "    </tr>\n",
       "    <tr>\n",
       "      <th>Unknown</th>\n",
       "      <td>346</td>\n",
       "    </tr>\n",
       "  </tbody>\n",
       "</table>\n",
       "</div>"
      ],
      "text/plain": [
       "         School Applied To\n",
       "Gender                    \n",
       "Female                1740\n",
       "Male                  1385\n",
       "Unknown                346"
      ]
     },
     "execution_count": 23,
     "metadata": {},
     "output_type": "execute_result"
    }
   ],
   "source": [
    "df_test.groupby(\"Gender\").count()[[\"School Applied To\"]]"
   ]
  },
  {
   "cell_type": "code",
   "execution_count": 24,
   "metadata": {},
   "outputs": [],
   "source": [
    "df_gender_split = pd.concat([df_test,pd.get_dummies(df_test[\"Gender\"],prefix = \"Gender\")],axis = 1)"
   ]
  },
  {
   "cell_type": "code",
   "execution_count": 25,
   "metadata": {},
   "outputs": [],
   "source": [
    "df_gender_split.drop(columns = [\"Gender\"],inplace = True)"
   ]
  },
  {
   "cell_type": "code",
   "execution_count": 26,
   "metadata": {},
   "outputs": [
    {
     "data": {
      "text/html": [
       "<div>\n",
       "<style scoped>\n",
       "    .dataframe tbody tr th:only-of-type {\n",
       "        vertical-align: middle;\n",
       "    }\n",
       "\n",
       "    .dataframe tbody tr th {\n",
       "        vertical-align: top;\n",
       "    }\n",
       "\n",
       "    .dataframe thead th {\n",
       "        text-align: right;\n",
       "    }\n",
       "</style>\n",
       "<table border=\"1\" class=\"dataframe\">\n",
       "  <thead>\n",
       "    <tr style=\"text-align: right;\">\n",
       "      <th></th>\n",
       "      <th>School Applied To</th>\n",
       "      <th>Gender_Female</th>\n",
       "      <th>Gender_Male</th>\n",
       "      <th>Gender_Unknown</th>\n",
       "    </tr>\n",
       "  </thead>\n",
       "  <tbody>\n",
       "    <tr>\n",
       "      <th>3470</th>\n",
       "      <td>USC Hybrid High School</td>\n",
       "      <td>1</td>\n",
       "      <td>0</td>\n",
       "      <td>0</td>\n",
       "    </tr>\n",
       "    <tr>\n",
       "      <th>1428</th>\n",
       "      <td>Esperanza College Prep</td>\n",
       "      <td>1</td>\n",
       "      <td>0</td>\n",
       "      <td>0</td>\n",
       "    </tr>\n",
       "    <tr>\n",
       "      <th>2742</th>\n",
       "      <td>USC Hybrid High School</td>\n",
       "      <td>1</td>\n",
       "      <td>0</td>\n",
       "      <td>0</td>\n",
       "    </tr>\n",
       "    <tr>\n",
       "      <th>1425</th>\n",
       "      <td>USC Hybrid High School</td>\n",
       "      <td>1</td>\n",
       "      <td>0</td>\n",
       "      <td>0</td>\n",
       "    </tr>\n",
       "    <tr>\n",
       "      <th>2743</th>\n",
       "      <td>USC Hybrid High School</td>\n",
       "      <td>1</td>\n",
       "      <td>0</td>\n",
       "      <td>0</td>\n",
       "    </tr>\n",
       "  </tbody>\n",
       "</table>\n",
       "</div>"
      ],
      "text/plain": [
       "           School Applied To  Gender_Female  Gender_Male  Gender_Unknown\n",
       "3470  USC Hybrid High School              1            0               0\n",
       "1428  Esperanza College Prep              1            0               0\n",
       "2742  USC Hybrid High School              1            0               0\n",
       "1425  USC Hybrid High School              1            0               0\n",
       "2743  USC Hybrid High School              1            0               0"
      ]
     },
     "execution_count": 26,
     "metadata": {},
     "output_type": "execute_result"
    }
   ],
   "source": [
    "df_gender_split.head()"
   ]
  },
  {
   "cell_type": "code",
   "execution_count": 27,
   "metadata": {},
   "outputs": [],
   "source": [
    "df_hybrid = df_gender_split.loc[df_gender_split[\"School Applied To\"] == \"USC Hybrid High School\",:]\n",
    "df_legacy = df_gender_split.loc[df_gender_split[\"School Applied To\"] == \"Legacy College Prep\",:]\n",
    "df_brio = df_gender_split.loc[df_gender_split[\"School Applied To\"] == \"Brio College Prep\",:]\n",
    "df_east = df_gender_split.loc[df_gender_split[\"School Applied To\"] == \"East College Prep\",:]\n",
    "df_esperanza = df_gender_split.loc[df_gender_split[\"School Applied To\"] == \"Esperanza College Prep\",:]"
   ]
  },
  {
   "cell_type": "code",
   "execution_count": 28,
   "metadata": {},
   "outputs": [],
   "source": [
    "df_hybrid_grouped = df_hybrid.groupby([\"Gender_Female\",\"Gender_Male\",\"Gender_Unknown\"]).count()\n",
    "y_hybrid = df_hybrid_grouped[\"School Applied To\"].tolist()\n",
    "x_hybrid = [\"Unkown\",\"Male\",\"Female\"]"
   ]
  },
  {
   "cell_type": "code",
   "execution_count": 29,
   "metadata": {},
   "outputs": [],
   "source": [
    "df_legacy_grouped = df_legacy.groupby([\"Gender_Female\",\"Gender_Male\",\"Gender_Unknown\"]).count()\n",
    "y_legacy = df_legacy_grouped[\"School Applied To\"].tolist()\n",
    "x_legacy = [\"Unkown\",\"Male\",\"Female\"]"
   ]
  },
  {
   "cell_type": "code",
   "execution_count": 30,
   "metadata": {},
   "outputs": [],
   "source": [
    "df_esperanza_grouped = df_esperanza.groupby([\"Gender_Female\",\"Gender_Male\",\"Gender_Unknown\"]).count()\n",
    "y_esperanza = df_esperanza_grouped[\"School Applied To\"].tolist()\n",
    "x_esperanza = [\"Unkown\",\"Male\",\"Female\"]"
   ]
  },
  {
   "cell_type": "code",
   "execution_count": 31,
   "metadata": {},
   "outputs": [],
   "source": [
    "df_brio_grouped = df_brio.groupby([\"Gender_Female\",\"Gender_Male\",\"Gender_Unknown\"]).count()\n",
    "y_brio = df_brio_grouped[\"School Applied To\"].tolist()\n",
    "x_brio = [\"Unkown\",\"Male\",\"Female\"]"
   ]
  },
  {
   "cell_type": "code",
   "execution_count": 32,
   "metadata": {},
   "outputs": [],
   "source": [
    "df_east_grouped = df_east.groupby([\"Gender_Female\",\"Gender_Male\",\"Gender_Unknown\"]).count()\n",
    "y_east = df_east_grouped[\"School Applied To\"].tolist()\n",
    "x_east = [\"Unkown\",\"Male\",\"Female\"]"
   ]
  },
  {
   "cell_type": "markdown",
   "metadata": {},
   "source": [
    "# Create chart that shows gender breakdown by school"
   ]
  },
  {
   "cell_type": "code",
   "execution_count": 33,
   "metadata": {},
   "outputs": [],
   "source": [
    "def autolabel(rects):\n",
    "    \"\"\"Attach a text label above each bar in *rects*, displaying its height.\"\"\"\n",
    "    for rect in rects:\n",
    "        height = rect.get_height()\n",
    "        ax.annotate('{}'.format(height),\n",
    "                    xy=(rect.get_x() + rect.get_width() / 2, height),\n",
    "                    xytext=(0, 3),  # 3 points vertical offset\n",
    "                    textcoords=\"offset points\",\n",
    "                    ha='center', va='bottom')"
   ]
  },
  {
   "cell_type": "code",
   "execution_count": 34,
   "metadata": {},
   "outputs": [],
   "source": [
    "labels = df_gender_split[\"School Applied To\"].drop_duplicates().to_list()"
   ]
  },
  {
   "cell_type": "code",
   "execution_count": 35,
   "metadata": {},
   "outputs": [
    {
     "data": {
      "text/plain": [
       "['USC Hybrid High School',\n",
       " 'Esperanza College Prep',\n",
       " 'Brio College Prep',\n",
       " 'Legacy College Prep',\n",
       " 'East College Prep']"
      ]
     },
     "execution_count": 35,
     "metadata": {},
     "output_type": "execute_result"
    }
   ],
   "source": [
    "labels"
   ]
  },
  {
   "cell_type": "code",
   "execution_count": 36,
   "metadata": {},
   "outputs": [],
   "source": [
    "male_count = [y_hybrid[1], y_esperanza[1], y_brio[1], y_legacy[1], y_east[1]]\n",
    "female_count = [y_hybrid[2], y_esperanza[2], y_brio[2], y_legacy[2], y_east[2]]\n",
    "unknown_count = [y_hybrid[0], y_esperanza[0], y_brio[0], y_legacy[0], y_east[0]]"
   ]
  },
  {
   "cell_type": "code",
   "execution_count": 37,
   "metadata": {},
   "outputs": [],
   "source": [
    "x = np.arange(len(labels))\n",
    "width = 0.25"
   ]
  },
  {
   "cell_type": "code",
   "execution_count": 38,
   "metadata": {},
   "outputs": [
    {
     "data": {
      "image/png": "[encoded data removed]",
      "text/plain": [
       "<Figure size 1440x576 with 1 Axes>"
      ]
     },
     "metadata": {
      "needs_background": "light"
     },
     "output_type": "display_data"
    }
   ],
   "source": [
    "fig,ax = plt.subplots(figsize= (20,8))\n",
    "rect1 = ax.bar(x - width, male_count,width, label = \"Male\")\n",
    "rect2 = ax.bar(x, female_count,width, label = \"Female\")\n",
    "rect3 = ax.bar(x + width, unknown_count,width, label = \"Unknown\")\n",
    "\n",
    "ax.set_ylabel('Gender Count')\n",
    "ax.set_xlabel(\"School\")\n",
    "ax.set_title('Gender Breakdown by School SY19-20')\n",
    "ax.set_xticks(x)\n",
    "ax.set_xticklabels(labels)\n",
    "ax.legend()\n",
    "\n",
    "autolabel(rect1)\n",
    "autolabel(rect2)\n",
    "autolabel(rect3)\n",
    "\n",
    "fig.tight_layout()\n",
    "\n",
    "plt.show()"
   ]
  },
  {
   "cell_type": "code",
   "execution_count": 39,
   "metadata": {},
   "outputs": [],
   "source": [
    "df.fillna(\"Unknown\",inplace = True)"
   ]
  },
  {
   "cell_type": "code",
   "execution_count": 40,
   "metadata": {},
   "outputs": [],
   "source": [
    "df_hybrid_only = df.loc[df[\"School Applied To\"] == \"USC Hybrid High School\",:]\n",
    "df_brio_only = df.loc[df[\"School Applied To\"] == \"Brio College Prep\",:]\n",
    "df_legacy_only = df.loc[df[\"School Applied To\"] == \"Legacy College Prep\",:]\n",
    "df_east_only = df.loc[df[\"School Applied To\"] == \"East College Prep\",:]\n",
    "df_esperanza_only = df.loc[df[\"School Applied To\"] == \"Esperanza College Prep\",:]"
   ]
  },
  {
   "cell_type": "markdown",
   "metadata": {},
   "source": [
    "# Open and Post Enrollment Charts By School"
   ]
  },
  {
   "cell_type": "markdown",
   "metadata": {},
   "source": [
    "## Hybrid"
   ]
  },
  {
   "cell_type": "code",
   "execution_count": 41,
   "metadata": {
    "jupyter": {
     "source_hidden": true
    }
   },
   "outputs": [],
   "source": [
    "#Group school by application type\n",
    "hybrid_group = df_hybrid_only.groupby(\"Application Type\").count()[[\"School Applied To\"]].reset_index()\n",
    "x_hybrid = hybrid_group[\"Application Type\"].tolist()\n",
    "y_hybrid = hybrid_group[\"School Applied To\"].tolist()\n",
    "\n",
    "# #Create bar chart\n",
    "# x_pos = [i for i,_ in enumerate(x_hybrid)]\n",
    "# plt.figure(figsize = (15,8))\n",
    "# plt.bar(x_pos, y_hybrid, color = \"tomato\")\n",
    "# plt.xlabel(\"Application Type\")\n",
    "# plt.ylabel(\"Total\")\n",
    "# plt.xticks(x_pos,x_hybrid)\n",
    "# plt.title(\"USC Hybrid High School SY19-20 Application Type\")\n",
    "\n",
    "# # Add labels on top of bar chart\n",
    "# for i, v in enumerate(y_hybrid):\n",
    "#     plt.text(x_pos[i], v+2, str(v))\n",
    "\n",
    "# plt.show()"
   ]
  },
  {
   "cell_type": "code",
   "execution_count": 42,
   "metadata": {},
   "outputs": [
    {
     "data": {
      "image/png": "[encoded data removed]",
      "text/plain": [
       "<Figure size 720x576 with 1 Axes>"
      ]
     },
     "metadata": {},
     "output_type": "display_data"
    }
   ],
   "source": [
    "explode = (0, 0.1)\n",
    "\n",
    "fig1, ax1 = plt.subplots(figsize = (10,8))\n",
    "ax1.pie(y_hybrid, explode=explode, labels=x_hybrid, autopct='%1.1f%%',\n",
    "        shadow=True, startangle=90)\n",
    "ax1.axis('equal')  # Equal aspect ratio ensures that pie is drawn as a circle.\n",
    "plt.title(\"USC Hybrid High School SY19-20 Application Type\")\n",
    "plt.show()"
   ]
  },
  {
   "cell_type": "markdown",
   "metadata": {},
   "source": [
    "## East"
   ]
  },
  {
   "cell_type": "code",
   "execution_count": 43,
   "metadata": {
    "jupyter": {
     "source_hidden": true
    }
   },
   "outputs": [],
   "source": [
    "#Group school by application type\n",
    "east_group = df_east_only.groupby(\"Application Type\").count()[[\"School Applied To\"]].reset_index()\n",
    "x_east = east_group[\"Application Type\"].tolist()\n",
    "y_east = east_group[\"School Applied To\"].tolist()\n",
    "\n",
    "#Create bar chart\n",
    "# x_pos = [i for i,_ in enumerate(x_east)]\n",
    "# plt.figure(figsize = (15,8))\n",
    "# plt.bar(x_pos, y_east, color = \"lightsteelblue\")\n",
    "# plt.xlabel(\"Application Type\")\n",
    "# plt.ylabel(\"Total\")\n",
    "# plt.xticks(x_pos,x_east)\n",
    "# plt.title(\"East College Prep SY19-20 Application Type\")\n",
    "\n",
    "# # Add labels on top of bar chart\n",
    "# for i, v in enumerate(y_east):\n",
    "#     plt.text(x_pos[i], v+2, str(v))\n",
    "\n",
    "# plt.show()"
   ]
  },
  {
   "cell_type": "code",
   "execution_count": 44,
   "metadata": {},
   "outputs": [
    {
     "data": {
      "image/png": "[encoded data removed]",
      "text/plain": [
       "<Figure size 720x576 with 1 Axes>"
      ]
     },
     "metadata": {},
     "output_type": "display_data"
    }
   ],
   "source": [
    "explode = (0, 0.1)\n",
    "\n",
    "fig1, ax1 = plt.subplots(figsize = (10,8))\n",
    "ax1.pie(y_east, explode=explode, labels=x_east, autopct='%1.1f%%',\n",
    "        shadow=True, startangle=90)\n",
    "ax1.axis('equal')  # Equal aspect ratio ensures that pie is drawn as a circle.\n",
    "plt.title(\"East College Prep SY19-20 Application Type\")\n",
    "plt.show()"
   ]
  },
  {
   "cell_type": "markdown",
   "metadata": {},
   "source": [
    "## Esperanza"
   ]
  },
  {
   "cell_type": "code",
   "execution_count": 45,
   "metadata": {
    "jupyter": {
     "source_hidden": true
    }
   },
   "outputs": [],
   "source": [
    "#Group school by application type\n",
    "esperanza_group = df_esperanza_only.groupby(\"Application Type\").count()[[\"School Applied To\"]].reset_index()\n",
    "x_esperanza = esperanza_group[\"Application Type\"].tolist()\n",
    "y_esperanza = esperanza_group[\"School Applied To\"].tolist()\n",
    "\n",
    "#Create bar chart\n",
    "# x_pos = [i for i,_ in enumerate(x_esperanza)]\n",
    "# plt.figure(figsize = (15,8))\n",
    "# plt.bar(x_pos, y_esperanza, color = \"darkorange\")\n",
    "# plt.xlabel(\"Application Type\")\n",
    "# plt.ylabel(\"Total\")\n",
    "# plt.xticks(x_pos,x_esperanza)\n",
    "# plt.title(\"Esperanza College Prep SY19-20 Application Type\")\n",
    "\n",
    "# # Add labels on top of bar chart\n",
    "# for i, v in enumerate(y_esperanza):\n",
    "#     plt.text(x_pos[i], v+2, str(v))\n",
    "\n",
    "# plt.show()"
   ]
  },
  {
   "cell_type": "code",
   "execution_count": 46,
   "metadata": {},
   "outputs": [
    {
     "data": {
      "image/png": "[encoded data removed]",
      "text/plain": [
       "<Figure size 720x576 with 1 Axes>"
      ]
     },
     "metadata": {},
     "output_type": "display_data"
    }
   ],
   "source": [
    "explode = (0, 0.1)\n",
    "\n",
    "fig1, ax1 = plt.subplots(figsize = (10,8))\n",
    "ax1.pie(y_esperanza, explode=explode, labels=x_esperanza, autopct='%1.1f%%',\n",
    "        shadow=True, startangle=90)\n",
    "ax1.axis('equal')  # Equal aspect ratio ensures that pie is drawn as a circle.\n",
    "plt.title(\"Esperanza College Prep SY19-20 Application Type\")\n",
    "plt.show()"
   ]
  },
  {
   "cell_type": "markdown",
   "metadata": {},
   "source": [
    "## Brio"
   ]
  },
  {
   "cell_type": "code",
   "execution_count": 47,
   "metadata": {
    "jupyter": {
     "source_hidden": true
    }
   },
   "outputs": [],
   "source": [
    "#Group school by application type\n",
    "brio_group = df_brio_only.groupby(\"Application Type\").count()[[\"School Applied To\"]].reset_index()\n",
    "x_brio = brio_group[\"Application Type\"].tolist()\n",
    "y_brio = brio_group[\"School Applied To\"].tolist()\n",
    "\n",
    "#Create bar chart\n",
    "# x_pos = [i for i,_ in enumerate(x_brio)]\n",
    "# plt.figure(figsize = (15,8))\n",
    "# plt.bar(x_pos, y_brio, color = \"royalblue\")\n",
    "# plt.xlabel(\"Application Type\")\n",
    "# plt.ylabel(\"Total\")\n",
    "# plt.xticks(x_pos,x_brio)\n",
    "# plt.title(\"Brio College Prep SY19-20 Application Type\")\n",
    "\n",
    "# # Add labels on top of bar chart\n",
    "# for i, v in enumerate(y_brio):\n",
    "#     plt.text(x_pos[i], v+2, str(v))\n",
    "\n",
    "# plt.show()"
   ]
  },
  {
   "cell_type": "code",
   "execution_count": 48,
   "metadata": {},
   "outputs": [
    {
     "data": {
      "image/png": "[encoded data removed]",
      "text/plain": [
       "<Figure size 720x576 with 1 Axes>"
      ]
     },
     "metadata": {},
     "output_type": "display_data"
    }
   ],
   "source": [
    "explode = (0, 0.1)\n",
    "\n",
    "fig1, ax1 = plt.subplots(figsize = (10,8))\n",
    "ax1.pie(y_brio, explode=explode, labels=x_brio, autopct='%1.1f%%',\n",
    "        shadow=True, startangle=90)\n",
    "ax1.axis('equal')  # Equal aspect ratio ensures that pie is drawn as a circle.\n",
    "plt.title(\"Brio College Prep SY19-20 Application Type\")\n",
    "plt.show()"
   ]
  },
  {
   "cell_type": "markdown",
   "metadata": {},
   "source": [
    "## Legacy"
   ]
  },
  {
   "cell_type": "code",
   "execution_count": 49,
   "metadata": {
    "jupyter": {
     "source_hidden": true
    }
   },
   "outputs": [],
   "source": [
    "#Group school by application type\n",
    "legacy_group = df_legacy_only.groupby(\"Application Type\").count()[[\"School Applied To\"]].reset_index()\n",
    "x_legacy = legacy_group[\"Application Type\"].tolist()\n",
    "y_legacy = legacy_group[\"School Applied To\"].tolist()\n",
    "\n",
    "#Create bar chart\n",
    "# x_pos = [i for i,_ in enumerate(x_legacy)]\n",
    "# plt.figure(figsize = (15,8))\n",
    "# plt.bar(x_pos, y_legacy, color = \"purple\")\n",
    "# plt.xlabel(\"Application Type\")\n",
    "# plt.ylabel(\"Total\")\n",
    "# plt.xticks(x_pos,x_legacy)\n",
    "# plt.title(\"Legacy College Prep SY19-20 Application Type\")\n",
    "\n",
    "# # Add labels on top of bar chart\n",
    "# for i, v in enumerate(y_legacy):\n",
    "#     plt.text(x_pos[i], v+2, str(v))\n",
    "\n",
    "# plt.show()"
   ]
  },
  {
   "cell_type": "code",
   "execution_count": 50,
   "metadata": {},
   "outputs": [
    {
     "data": {
      "image/png": "[encoded data removed]",
      "text/plain": [
       "<Figure size 720x576 with 1 Axes>"
      ]
     },
     "metadata": {},
     "output_type": "display_data"
    }
   ],
   "source": [
    "explode = (0, 0.1)\n",
    "\n",
    "fig1, ax1 = plt.subplots(figsize = (10,8))\n",
    "ax1.pie(y_legacy, explode=explode, labels=x_legacy, autopct='%1.1f%%',\n",
    "        shadow=True, startangle=90)\n",
    "ax1.axis('equal')  # Equal aspect ratio ensures that pie is drawn as a circle.\n",
    "plt.title(\"Legacy College Prep SY19-20 Application Type\")\n",
    "plt.show()"
   ]
  },
  {
   "cell_type": "markdown",
   "metadata": {},
   "source": [
    "## All Schools"
   ]
  },
  {
   "cell_type": "code",
   "execution_count": 51,
   "metadata": {},
   "outputs": [],
   "source": [
    "labels = df_gender_split[\"School Applied To\"].drop_duplicates().to_list()\n",
    "open_count = [y_hybrid[0], y_esperanza[0], y_brio[0], y_legacy[0], y_east[0]]\n",
    "post_count = [y_hybrid[1], y_esperanza[1], y_brio[1], y_legacy[1], y_east[1]]\n",
    "x = np.arange(len(labels))\n",
    "width = 0.25"
   ]
  },
  {
   "cell_type": "code",
   "execution_count": 52,
   "metadata": {},
   "outputs": [
    {
     "data": {
      "image/png": "[encoded data removed]",
      "text/plain": [
       "<Figure size 1440x576 with 1 Axes>"
      ]
     },
     "metadata": {
      "needs_background": "light"
     },
     "output_type": "display_data"
    }
   ],
   "source": [
    "fig,ax = plt.subplots(figsize= (20,8))\n",
    "rect1 = ax.bar(x-width/2, open_count,width, label = \"Open Enrollment\")\n",
    "rect2 = ax.bar(x+width/2, post_count,width, label = \"Post Enrollment\")\n",
    "\n",
    "ax.set_ylabel('Enrollment Count')\n",
    "ax.set_xlabel(\"School\")\n",
    "ax.set_title('Application Type by School SY19-20')\n",
    "ax.set_xticks(x)\n",
    "ax.set_xticklabels(labels)\n",
    "ax.legend()\n",
    "\n",
    "autolabel(rect1)\n",
    "autolabel(rect2)\n",
    "\n",
    "fig.tight_layout()\n",
    "fig.savefig(\"Application_Type\")\n",
    "plt.show()"
   ]
  },
  {
   "cell_type": "code",
   "execution_count": 53,
   "metadata": {},
   "outputs": [
    {
     "data": {
      "text/html": [
       "<div>\n",
       "<style scoped>\n",
       "    .dataframe tbody tr th:only-of-type {\n",
       "        vertical-align: middle;\n",
       "    }\n",
       "\n",
       "    .dataframe tbody tr th {\n",
       "        vertical-align: top;\n",
       "    }\n",
       "\n",
       "    .dataframe thead th {\n",
       "        text-align: right;\n",
       "    }\n",
       "</style>\n",
       "<table border=\"1\" class=\"dataframe\">\n",
       "  <thead>\n",
       "    <tr style=\"text-align: right;\">\n",
       "      <th></th>\n",
       "      <th>Email</th>\n",
       "      <th>Lives With</th>\n",
       "      <th>Date Submitted</th>\n",
       "      <th>Offered Date</th>\n",
       "      <th>Offer Accepted Date</th>\n",
       "      <th>Current Grade</th>\n",
       "      <th>Grade Applied To</th>\n",
       "      <th>School Applied To</th>\n",
       "      <th>Current School</th>\n",
       "      <th>Current School District</th>\n",
       "      <th>...</th>\n",
       "      <th>Student Name</th>\n",
       "      <th>Parent Name</th>\n",
       "      <th>Address</th>\n",
       "      <th>Birthday</th>\n",
       "      <th>Gender</th>\n",
       "      <th>Contact Number</th>\n",
       "      <th>Application Type</th>\n",
       "      <th>Status</th>\n",
       "      <th>Time Stamp</th>\n",
       "      <th>Updated</th>\n",
       "    </tr>\n",
       "  </thead>\n",
       "  <tbody>\n",
       "    <tr>\n",
       "      <th>0</th>\n",
       "      <td>hildaj06@outlook.com</td>\n",
       "      <td>MO|FA</td>\n",
       "      <td>09/04/2018 05:55:07 PDT</td>\n",
       "      <td></td>\n",
       "      <td></td>\n",
       "      <td>8.0</td>\n",
       "      <td>9</td>\n",
       "      <td>USC Hybrid High School</td>\n",
       "      <td></td>\n",
       "      <td>Los Angeles Unified School District</td>\n",
       "      <td>...</td>\n",
       "      <td>Kevin   Garcia</td>\n",
       "      <td>Hilda Javier</td>\n",
       "      <td>2741 Van Buren Pl Apt 02 90007 CA Los Angeles</td>\n",
       "      <td>11/20/05</td>\n",
       "      <td>Male</td>\n",
       "      <td>(323) 928-8844</td>\n",
       "      <td>Open Enrollment</td>\n",
       "      <td>Waitlisted-682</td>\n",
       "      <td>2019-02-12 18:46:31</td>\n",
       "      <td>2019-12-03 13:41:48</td>\n",
       "    </tr>\n",
       "    <tr>\n",
       "      <th>1</th>\n",
       "      <td>malvagrant@yahoo.com</td>\n",
       "      <td>MO|FA</td>\n",
       "      <td>09/04/2018 06:01:24 PDT</td>\n",
       "      <td></td>\n",
       "      <td></td>\n",
       "      <td>8.0</td>\n",
       "      <td>9</td>\n",
       "      <td>USC Hybrid High School</td>\n",
       "      <td></td>\n",
       "      <td>Los Angeles Unified School District</td>\n",
       "      <td>...</td>\n",
       "      <td>Jazmine Alesha Betson</td>\n",
       "      <td>Malva Palacio- Grant</td>\n",
       "      <td>622 W 77th St Apt 6 90044 CA Los Angeles</td>\n",
       "      <td>07/24/04</td>\n",
       "      <td>Female</td>\n",
       "      <td>(323) 527-6738</td>\n",
       "      <td>Open Enrollment</td>\n",
       "      <td>Waitlisted-307</td>\n",
       "      <td>2019-02-12 18:46:09</td>\n",
       "      <td>2019-12-03 13:41:09</td>\n",
       "    </tr>\n",
       "    <tr>\n",
       "      <th>2</th>\n",
       "      <td>3234453696@schoolmint.net</td>\n",
       "      <td>MO</td>\n",
       "      <td>09/04/2018 07:59:07 PDT</td>\n",
       "      <td></td>\n",
       "      <td></td>\n",
       "      <td>10.0</td>\n",
       "      <td>11</td>\n",
       "      <td>USC Hybrid High School</td>\n",
       "      <td></td>\n",
       "      <td>Los Angeles Unified School District</td>\n",
       "      <td>...</td>\n",
       "      <td>Teryn O Johnson</td>\n",
       "      <td>Terrea Moore</td>\n",
       "      <td>4126 2nd Avenue   90008 CA Los Angeles</td>\n",
       "      <td>04/21/03</td>\n",
       "      <td>Male</td>\n",
       "      <td>(323) 445-3696</td>\n",
       "      <td>Open Enrollment</td>\n",
       "      <td>Waitlisted-22</td>\n",
       "      <td>2019-02-12 18:29:20</td>\n",
       "      <td>2019-10-28 15:54:12</td>\n",
       "    </tr>\n",
       "    <tr>\n",
       "      <th>3</th>\n",
       "      <td>dalamonte4@gmail.com</td>\n",
       "      <td>FA</td>\n",
       "      <td>09/04/2018 08:53:43 PDT</td>\n",
       "      <td></td>\n",
       "      <td></td>\n",
       "      <td>8.0</td>\n",
       "      <td>9</td>\n",
       "      <td>USC Hybrid High School</td>\n",
       "      <td></td>\n",
       "      <td>Los Angeles Unified School District</td>\n",
       "      <td>...</td>\n",
       "      <td>Uryiah Elizabeth Brown</td>\n",
       "      <td>Davion Brown</td>\n",
       "      <td>735 1/2 W 42nd St   90037 CA Los Angeles</td>\n",
       "      <td>03/18/05</td>\n",
       "      <td>Female</td>\n",
       "      <td>(323) 353-4559</td>\n",
       "      <td>Open Enrollment</td>\n",
       "      <td>Waitlisted-665</td>\n",
       "      <td>2019-02-12 18:46:30</td>\n",
       "      <td>2019-12-03 13:41:46</td>\n",
       "    </tr>\n",
       "    <tr>\n",
       "      <th>4</th>\n",
       "      <td>teresanonoal@gmail.com</td>\n",
       "      <td>MO</td>\n",
       "      <td>09/04/2018 09:14:57 PDT</td>\n",
       "      <td></td>\n",
       "      <td></td>\n",
       "      <td>9.0</td>\n",
       "      <td>9</td>\n",
       "      <td>USC Hybrid High School</td>\n",
       "      <td></td>\n",
       "      <td>Los Angeles Unified School District</td>\n",
       "      <td>...</td>\n",
       "      <td>Medeline   Garcia</td>\n",
       "      <td>Theresa Nonoal</td>\n",
       "      <td>212 E 30th St   90011 CA Los Angeles</td>\n",
       "      <td>07/15/04</td>\n",
       "      <td>Female</td>\n",
       "      <td>(232) 620-8391</td>\n",
       "      <td>Open Enrollment</td>\n",
       "      <td>Waitlisted-42</td>\n",
       "      <td>2019-02-12 18:45:53</td>\n",
       "      <td>2019-12-03 13:40:40</td>\n",
       "    </tr>\n",
       "  </tbody>\n",
       "</table>\n",
       "<p>5 rows × 21 columns</p>\n",
       "</div>"
      ],
      "text/plain": [
       "                       Email Lives With           Date Submitted Offered Date  \\\n",
       "0       hildaj06@outlook.com      MO|FA  09/04/2018 05:55:07 PDT                \n",
       "1       malvagrant@yahoo.com      MO|FA  09/04/2018 06:01:24 PDT                \n",
       "2  3234453696@schoolmint.net         MO  09/04/2018 07:59:07 PDT                \n",
       "3       dalamonte4@gmail.com         FA  09/04/2018 08:53:43 PDT                \n",
       "4     teresanonoal@gmail.com         MO  09/04/2018 09:14:57 PDT                \n",
       "\n",
       "  Offer Accepted Date Current Grade  Grade Applied To       School Applied To  \\\n",
       "0                               8.0                 9  USC Hybrid High School   \n",
       "1                               8.0                 9  USC Hybrid High School   \n",
       "2                              10.0                11  USC Hybrid High School   \n",
       "3                               8.0                 9  USC Hybrid High School   \n",
       "4                               9.0                 9  USC Hybrid High School   \n",
       "\n",
       "  Current School              Current School District  ...  \\\n",
       "0                 Los Angeles Unified School District  ...   \n",
       "1                 Los Angeles Unified School District  ...   \n",
       "2                 Los Angeles Unified School District  ...   \n",
       "3                 Los Angeles Unified School District  ...   \n",
       "4                 Los Angeles Unified School District  ...   \n",
       "\n",
       "             Student Name           Parent Name  \\\n",
       "0          Kevin   Garcia          Hilda Javier   \n",
       "1   Jazmine Alesha Betson  Malva Palacio- Grant   \n",
       "2         Teryn O Johnson          Terrea Moore   \n",
       "3  Uryiah Elizabeth Brown          Davion Brown   \n",
       "4       Medeline   Garcia        Theresa Nonoal   \n",
       "\n",
       "                                         Address  Birthday  Gender  \\\n",
       "0  2741 Van Buren Pl Apt 02 90007 CA Los Angeles  11/20/05    Male   \n",
       "1       622 W 77th St Apt 6 90044 CA Los Angeles  07/24/04  Female   \n",
       "2         4126 2nd Avenue   90008 CA Los Angeles  04/21/03    Male   \n",
       "3       735 1/2 W 42nd St   90037 CA Los Angeles  03/18/05  Female   \n",
       "4           212 E 30th St   90011 CA Los Angeles  07/15/04  Female   \n",
       "\n",
       "   Contact Number Application Type          Status           Time Stamp  \\\n",
       "0  (323) 928-8844  Open Enrollment  Waitlisted-682  2019-02-12 18:46:31   \n",
       "1  (323) 527-6738  Open Enrollment  Waitlisted-307  2019-02-12 18:46:09   \n",
       "2  (323) 445-3696  Open Enrollment   Waitlisted-22  2019-02-12 18:29:20   \n",
       "3  (323) 353-4559  Open Enrollment  Waitlisted-665  2019-02-12 18:46:30   \n",
       "4  (232) 620-8391  Open Enrollment   Waitlisted-42  2019-02-12 18:45:53   \n",
       "\n",
       "               Updated  \n",
       "0  2019-12-03 13:41:48  \n",
       "1  2019-12-03 13:41:09  \n",
       "2  2019-10-28 15:54:12  \n",
       "3  2019-12-03 13:41:46  \n",
       "4  2019-12-03 13:40:40  \n",
       "\n",
       "[5 rows x 21 columns]"
      ]
     },
     "execution_count": 53,
     "metadata": {},
     "output_type": "execute_result"
    }
   ],
   "source": [
    "df_hybrid_only.head()"
   ]
  },
  {
   "cell_type": "markdown",
   "metadata": {},
   "source": [
    "# Student Status by School"
   ]
  },
  {
   "cell_type": "code",
   "execution_count": 54,
   "metadata": {},
   "outputs": [],
   "source": [
    "def seperate_status(status):\n",
    "    status = str(status).split(\"-\")\n",
    "    return status[0]"
   ]
  },
  {
   "cell_type": "markdown",
   "metadata": {},
   "source": [
    "## Hybrid"
   ]
  },
  {
   "cell_type": "code",
   "execution_count": 520,
   "metadata": {},
   "outputs": [
    {
     "name": "stderr",
     "output_type": "stream",
     "text": [
      "C:\\Users\\nvicente\\AppData\\Local\\Continuum\\anaconda3\\lib\\site-packages\\ipykernel_launcher.py:1: SettingWithCopyWarning: \n",
      "A value is trying to be set on a copy of a slice from a DataFrame.\n",
      "Try using .loc[row_indexer,col_indexer] = value instead\n",
      "\n",
      "See the caveats in the documentation: http://pandas.pydata.org/pandas-docs/stable/indexing.html#indexing-view-versus-copy\n",
      "  \"\"\"Entry point for launching an IPython kernel.\n"
     ]
    }
   ],
   "source": [
    "df_hybrid_only[\"Seperated Status\"] = df_hybrid_only[\"Status\"].apply(seperate_status)\n",
    "status_grouped = df_hybrid_only.groupby(\"Seperated Status\").count()[[\"School Applied To\"]].reset_index()\n",
    "status_grouped.sort_values(by = \"Seperated Status\", ascending = False,inplace = True)"
   ]
  },
  {
   "cell_type": "code",
   "execution_count": 521,
   "metadata": {},
   "outputs": [
    {
     "data": {
      "image/png": "[encoded data removed]",
      "text/plain": [
       "<Figure size 1080x720 with 1 Axes>"
      ]
     },
     "metadata": {
      "needs_background": "light"
     },
     "output_type": "display_data"
    }
   ],
   "source": [
    "x_label_hybrid = status_grouped[\"Seperated Status\"].tolist()\n",
    "y_label_hybrid = status_grouped[\"School Applied To\"].tolist()\n",
    "x_pos = [i for i,_ in enumerate(x_label_hybrid)]\n",
    "\n",
    "fig = plt.figure(figsize = (15,10))\n",
    "\n",
    "plt.bar(x_label_hybrid, y_label_hybrid, color=\"tomato\")\n",
    "plt.xlabel(\"Status\",weight = \"bold\")\n",
    "plt.ylabel(\"Total\",weight = \"bold\")\n",
    "\n",
    "plt.xticks(x_pos,x_label_hybrid)\n",
    "plt.title(\"USC Hybrid High School SY19-20 Status\",weight = \"bold\")\n",
    "\n",
    "# Add labels on top of bar chart\n",
    "for i, v in enumerate(y_label_hybrid):\n",
    "    plt.text(x_pos[i]-0.1, v+1, str(v))\n",
    "\n",
    "plt.show()\n",
    "fig.savefig(\"test.png\")"
   ]
  },
  {
   "cell_type": "markdown",
   "metadata": {},
   "source": [
    "## East"
   ]
  },
  {
   "cell_type": "code",
   "execution_count": 522,
   "metadata": {},
   "outputs": [
    {
     "name": "stderr",
     "output_type": "stream",
     "text": [
      "C:\\Users\\nvicente\\AppData\\Local\\Continuum\\anaconda3\\lib\\site-packages\\ipykernel_launcher.py:1: SettingWithCopyWarning: \n",
      "A value is trying to be set on a copy of a slice from a DataFrame.\n",
      "Try using .loc[row_indexer,col_indexer] = value instead\n",
      "\n",
      "See the caveats in the documentation: http://pandas.pydata.org/pandas-docs/stable/indexing.html#indexing-view-versus-copy\n",
      "  \"\"\"Entry point for launching an IPython kernel.\n"
     ]
    }
   ],
   "source": [
    "df_east_only[\"Seperated Status\"] = df_east_only[\"Status\"].apply(seperate_status)\n",
    "status_grouped = df_east_only.groupby(\"Seperated Status\").count()[[\"School Applied To\"]].reset_index()\n",
    "status_grouped.sort_values(by = \"Seperated Status\", ascending = False,inplace = True)"
   ]
  },
  {
   "cell_type": "code",
   "execution_count": 523,
   "metadata": {
    "jupyter": {
     "source_hidden": true
    }
   },
   "outputs": [
    {
     "data": {
      "image/png": "[encoded data removed]",
      "text/plain": [
       "<Figure size 1080x720 with 1 Axes>"
      ]
     },
     "metadata": {
      "needs_background": "light"
     },
     "output_type": "display_data"
    }
   ],
   "source": [
    "x_label_east = status_grouped[\"Seperated Status\"].tolist()\n",
    "y_label_east = status_grouped[\"School Applied To\"].tolist()\n",
    "x_pos = [i for i,_ in enumerate(x_label_east)]\n",
    "\n",
    "fig = plt.figure(figsize = (15,10))\n",
    "\n",
    "plt.bar(x_label_east, y_label_east, color=\"lightsteelblue\")\n",
    "plt.xlabel(\"Status\",weight = \"bold\")\n",
    "plt.ylabel(\"Total\",weight = \"bold\")\n",
    "\n",
    "plt.xticks(x_pos,x_label_east)\n",
    "plt.title(\"East College Prep SY19-20 Status\",weight = \"bold\")\n",
    "\n",
    "# Add labels on top of bar chart\n",
    "for i, v in enumerate(y_label_east):\n",
    "    plt.text(x_pos[i]-0.05, v+1, str(v))\n",
    "\n",
    "plt.show()"
   ]
  },
  {
   "cell_type": "markdown",
   "metadata": {},
   "source": [
    "## Esperanza"
   ]
  },
  {
   "cell_type": "code",
   "execution_count": 524,
   "metadata": {
    "jupyter": {
     "source_hidden": true
    }
   },
   "outputs": [
    {
     "name": "stderr",
     "output_type": "stream",
     "text": [
      "C:\\Users\\nvicente\\AppData\\Local\\Continuum\\anaconda3\\lib\\site-packages\\ipykernel_launcher.py:1: SettingWithCopyWarning: \n",
      "A value is trying to be set on a copy of a slice from a DataFrame.\n",
      "Try using .loc[row_indexer,col_indexer] = value instead\n",
      "\n",
      "See the caveats in the documentation: http://pandas.pydata.org/pandas-docs/stable/indexing.html#indexing-view-versus-copy\n",
      "  \"\"\"Entry point for launching an IPython kernel.\n"
     ]
    }
   ],
   "source": [
    "df_esperanza_only[\"Seperated Status\"] = df_esperanza_only[\"Status\"].apply(seperate_status)\n",
    "status_grouped = df_esperanza_only.groupby(\"Seperated Status\").count()[[\"School Applied To\"]].reset_index()\n",
    "status_grouped.sort_values(by = \"Seperated Status\", ascending = False,inplace = True)"
   ]
  },
  {
   "cell_type": "code",
   "execution_count": 525,
   "metadata": {
    "jupyter": {
     "source_hidden": true
    }
   },
   "outputs": [
    {
     "data": {
      "image/png": "[encoded data removed]",
      "text/plain": [
       "<Figure size 1080x720 with 1 Axes>"
      ]
     },
     "metadata": {
      "needs_background": "light"
     },
     "output_type": "display_data"
    }
   ],
   "source": [
    "x_label_esperanza = status_grouped[\"Seperated Status\"].tolist()\n",
    "y_label_esperanza = status_grouped[\"School Applied To\"].tolist()\n",
    "x_pos = [i for i,_ in enumerate(x_label_esperanza)]\n",
    "\n",
    "fig = plt.figure(figsize = (15,10))\n",
    "\n",
    "plt.bar(x_label_esperanza, y_label_esperanza, color=\"darkorange\")\n",
    "plt.xlabel(\"Status\",weight = \"bold\")\n",
    "plt.ylabel(\"Total\",weight = \"bold\")\n",
    "\n",
    "plt.xticks(x_pos,x_label_esperanza)\n",
    "plt.title(\"Esperanza College Prep SY19-20 Status\",weight = \"bold\")\n",
    "\n",
    "# Add labels on top of bar chart\n",
    "for i, v in enumerate(y_label_esperanza):\n",
    "    plt.text(x_pos[i]-0.05, v+1, str(v))\n",
    "\n",
    "plt.show()"
   ]
  },
  {
   "cell_type": "markdown",
   "metadata": {},
   "source": [
    "## Brio"
   ]
  },
  {
   "cell_type": "code",
   "execution_count": 526,
   "metadata": {},
   "outputs": [
    {
     "name": "stderr",
     "output_type": "stream",
     "text": [
      "C:\\Users\\nvicente\\AppData\\Local\\Continuum\\anaconda3\\lib\\site-packages\\ipykernel_launcher.py:1: SettingWithCopyWarning: \n",
      "A value is trying to be set on a copy of a slice from a DataFrame.\n",
      "Try using .loc[row_indexer,col_indexer] = value instead\n",
      "\n",
      "See the caveats in the documentation: http://pandas.pydata.org/pandas-docs/stable/indexing.html#indexing-view-versus-copy\n",
      "  \"\"\"Entry point for launching an IPython kernel.\n"
     ]
    }
   ],
   "source": [
    "df_brio_only[\"Seperated Status\"] = df_brio_only[\"Status\"].apply(seperate_status)\n",
    "status_grouped = df_brio_only.groupby(\"Seperated Status\").count()[[\"School Applied To\"]].reset_index()\n",
    "status_grouped.sort_values(by = \"Seperated Status\", ascending = False,inplace = True)"
   ]
  },
  {
   "cell_type": "code",
   "execution_count": 527,
   "metadata": {
    "jupyter": {
     "source_hidden": true
    }
   },
   "outputs": [
    {
     "data": {
      "image/png": "[encoded data removed]",
      "text/plain": [
       "<Figure size 1080x720 with 1 Axes>"
      ]
     },
     "metadata": {
      "needs_background": "light"
     },
     "output_type": "display_data"
    }
   ],
   "source": [
    "x_label_brio = status_grouped[\"Seperated Status\"].tolist()\n",
    "y_label_brio = status_grouped[\"School Applied To\"].tolist()\n",
    "x_pos = [i for i,_ in enumerate(x_label_brio)]\n",
    "\n",
    "fig = plt.figure(figsize = (15,10))\n",
    "\n",
    "plt.bar(x_label_brio, y_label_brio, color=\"royalblue\")\n",
    "plt.xlabel(\"Status\",weight = \"bold\")\n",
    "plt.ylabel(\"Total\",weight = \"bold\")\n",
    "\n",
    "plt.xticks(x_pos,x_label_brio)\n",
    "plt.title(\"Brio College Prep SY19-20 Status\",weight = \"bold\")\n",
    "\n",
    "# Add labels on top of bar chart\n",
    "for i, v in enumerate(y_label_brio):\n",
    "    plt.text(x_pos[i]-0.05, v+1, str(v))\n",
    "\n",
    "plt.show()"
   ]
  },
  {
   "cell_type": "markdown",
   "metadata": {},
   "source": [
    "## Legacy"
   ]
  },
  {
   "cell_type": "code",
   "execution_count": 528,
   "metadata": {
    "jupyter": {
     "source_hidden": true
    }
   },
   "outputs": [
    {
     "name": "stderr",
     "output_type": "stream",
     "text": [
      "C:\\Users\\nvicente\\AppData\\Local\\Continuum\\anaconda3\\lib\\site-packages\\ipykernel_launcher.py:1: SettingWithCopyWarning: \n",
      "A value is trying to be set on a copy of a slice from a DataFrame.\n",
      "Try using .loc[row_indexer,col_indexer] = value instead\n",
      "\n",
      "See the caveats in the documentation: http://pandas.pydata.org/pandas-docs/stable/indexing.html#indexing-view-versus-copy\n",
      "  \"\"\"Entry point for launching an IPython kernel.\n"
     ]
    }
   ],
   "source": [
    "df_legacy_only[\"Seperated Status\"] = df_legacy_only[\"Status\"].apply(seperate_status)\n",
    "status_grouped = df_legacy_only.groupby(\"Seperated Status\").count()[[\"School Applied To\"]].reset_index()\n",
    "status_grouped.sort_values(by = \"Seperated Status\", ascending = False,inplace = True)"
   ]
  },
  {
   "cell_type": "code",
   "execution_count": 529,
   "metadata": {
    "jupyter": {
     "source_hidden": true
    }
   },
   "outputs": [
    {
     "data": {
      "image/png": "[encoded data removed]",
      "text/plain": [
       "<Figure size 1080x720 with 1 Axes>"
      ]
     },
     "metadata": {
      "needs_background": "light"
     },
     "output_type": "display_data"
    }
   ],
   "source": [
    "x_label_legacy = status_grouped[\"Seperated Status\"].tolist()\n",
    "y_label_legacy = status_grouped[\"School Applied To\"].tolist()\n",
    "x_pos = [i for i,_ in enumerate(x_label_legacy)]\n",
    "\n",
    "fig = plt.figure(figsize = (15,10))\n",
    "\n",
    "plt.bar(x_label_legacy, y_label_legacy, color=\"purple\")\n",
    "plt.xlabel(\"Status\",weight = \"bold\")\n",
    "plt.ylabel(\"Total\",weight = \"bold\")\n",
    "\n",
    "plt.xticks(x_pos,x_label_legacy)\n",
    "plt.title(\"Legacy College Prep SY19-20 Status\",weight = \"bold\")\n",
    "\n",
    "# Add labels on top of bar chart\n",
    "for i, v in enumerate(y_label_legacy):\n",
    "    plt.text(x_pos[i]-0.05, v+1, str(v))\n",
    "\n",
    "plt.show()"
   ]
  },
  {
   "cell_type": "code",
   "execution_count": 530,
   "metadata": {},
   "outputs": [],
   "source": [
    "def match_list(masterlist: list, unfixed_list: list):\n",
    "    if masterlist == unfixed_list:\n",
    "        return unfixed_list\n",
    "    else:\n",
    "        if len(masterlist) != len(unfixed_list):\n",
    "            x = len(masterlist) - len(unfixed_list)\n",
    "            for i in range(x):\n",
    "                unfixed_list.append(\"\")\n",
    "\n",
    "        for i in range(len(masterlist)):\n",
    "            if masterlist[i] != unfixed_list[i]:\n",
    "                unfixed_list.insert(i,masterlist[i])\n",
    "        unfixed_list = [x for x in unfixed_list if x]\n",
    "\n",
    "    return unfixed_list"
   ]
  },
  {
   "cell_type": "code",
   "execution_count": 531,
   "metadata": {},
   "outputs": [],
   "source": [
    "df[\"New Status\"] = df[\"Status\"].apply(seperate_status)"
   ]
  },
  {
   "cell_type": "code",
   "execution_count": 532,
   "metadata": {},
   "outputs": [],
   "source": [
    "status_list = df[\"New Status\"].drop_duplicates().tolist()"
   ]
  },
  {
   "cell_type": "code",
   "execution_count": 533,
   "metadata": {},
   "outputs": [
    {
     "data": {
      "text/plain": [
       "['Waitlisted',\n",
       " 'Canceled',\n",
       " 'Declined',\n",
       " 'Registration Verified',\n",
       " 'Rescinded',\n",
       " 'Widthdawn',\n",
       " 'Accepted',\n",
       " 'Registration in Progress',\n",
       " 'Offered',\n",
       " 'Submitted']"
      ]
     },
     "execution_count": 533,
     "metadata": {},
     "output_type": "execute_result"
    }
   ],
   "source": [
    "status_list"
   ]
  },
  {
   "cell_type": "code",
   "execution_count": 534,
   "metadata": {},
   "outputs": [],
   "source": [
    "x_label_hybrid = match_list(status_list, x_label_hybrid)"
   ]
  },
  {
   "cell_type": "code",
   "execution_count": 535,
   "metadata": {},
   "outputs": [
    {
     "data": {
      "text/plain": [
       "['Waitlisted',\n",
       " 'Canceled',\n",
       " 'Declined',\n",
       " 'Registration Verified',\n",
       " 'Rescinded',\n",
       " 'Widthdawn',\n",
       " 'Accepted',\n",
       " 'Registration in Progress',\n",
       " 'Offered',\n",
       " 'Submitted',\n",
       " 'Waitlisted',\n",
       " 'Submitted',\n",
       " 'Rescinded',\n",
       " 'Registration Verified',\n",
       " 'Offered',\n",
       " 'Declined',\n",
       " 'Canceled']"
      ]
     },
     "execution_count": 535,
     "metadata": {},
     "output_type": "execute_result"
    }
   ],
   "source": [
    "x_label_hybrid"
   ]
  },
  {
   "cell_type": "code",
   "execution_count": 536,
   "metadata": {},
   "outputs": [],
   "source": [
    "x_label_east = match_list(status_list, x_label_east)"
   ]
  },
  {
   "cell_type": "code",
   "execution_count": 537,
   "metadata": {},
   "outputs": [
    {
     "data": {
      "text/plain": [
       "['Waitlisted',\n",
       " 'Canceled',\n",
       " 'Declined',\n",
       " 'Registration Verified',\n",
       " 'Rescinded',\n",
       " 'Widthdawn',\n",
       " 'Accepted',\n",
       " 'Registration in Progress',\n",
       " 'Offered',\n",
       " 'Submitted',\n",
       " 'Rescinded',\n",
       " 'Registration Verified',\n",
       " 'Declined',\n",
       " 'Canceled']"
      ]
     },
     "execution_count": 537,
     "metadata": {},
     "output_type": "execute_result"
    }
   ],
   "source": [
    "x_label_east"
   ]
  },
  {
   "cell_type": "code",
   "execution_count": null,
   "metadata": {},
   "outputs": [],
   "source": []
  },
  {
   "cell_type": "code",
   "execution_count": null,
   "metadata": {},
   "outputs": [],
   "source": []
  },
  {
   "cell_type": "code",
   "execution_count": 492,
   "metadata": {},
   "outputs": [],
   "source": [
    "x_label_east = match_list(x_label_hybrid, x_label_east)"
   ]
  },
  {
   "cell_type": "code",
   "execution_count": 493,
   "metadata": {},
   "outputs": [],
   "source": [
    "x_label_esperanza = match_list(x_label_hybrid, x_label_esperanza)"
   ]
  },
  {
   "cell_type": "code",
   "execution_count": 494,
   "metadata": {},
   "outputs": [],
   "source": [
    "x_label_brio = match_list(x_label_hybrid, x_label_brio)"
   ]
  },
  {
   "cell_type": "code",
   "execution_count": 495,
   "metadata": {},
   "outputs": [],
   "source": [
    "x_label_legacy = match_list(x_label_hybrid, x_label_legacy)"
   ]
  },
  {
   "cell_type": "code",
   "execution_count": 503,
   "metadata": {},
   "outputs": [
    {
     "data": {
      "text/plain": [
       "['Widthdawn',\n",
       " 'Waitlisted',\n",
       " 'Rescinded',\n",
       " 'Registration in Progress',\n",
       " 'Registration Verified',\n",
       " 'Offered',\n",
       " 'Declined',\n",
       " 'Canceled',\n",
       " 'Accepted']"
      ]
     },
     "execution_count": 503,
     "metadata": {},
     "output_type": "execute_result"
    }
   ],
   "source": [
    "x_label_brio"
   ]
  },
  {
   "cell_type": "code",
   "execution_count": 505,
   "metadata": {},
   "outputs": [
    {
     "data": {
      "text/plain": [
       "['Widthdawn',\n",
       " 'Waitlisted',\n",
       " 'Submitted',\n",
       " 'Rescinded',\n",
       " 'Registration Verified',\n",
       " 'Offered',\n",
       " 'Declined',\n",
       " 'Canceled',\n",
       " 'Accepted']"
      ]
     },
     "execution_count": 505,
     "metadata": {},
     "output_type": "execute_result"
    }
   ],
   "source": [
    "x_label_hybrid"
   ]
  },
  {
   "cell_type": "code",
   "execution_count": null,
   "metadata": {},
   "outputs": [],
   "source": []
  },
  {
   "cell_type": "code",
   "execution_count": null,
   "metadata": {},
   "outputs": [],
   "source": []
  },
  {
   "cell_type": "code",
   "execution_count": null,
   "metadata": {},
   "outputs": [],
   "source": []
  },
  {
   "cell_type": "code",
   "execution_count": null,
   "metadata": {},
   "outputs": [],
   "source": []
  },
  {
   "cell_type": "code",
   "execution_count": null,
   "metadata": {},
   "outputs": [],
   "source": []
  },
  {
   "cell_type": "code",
   "execution_count": null,
   "metadata": {},
   "outputs": [],
   "source": []
  },
  {
   "cell_type": "code",
   "execution_count": null,
   "metadata": {},
   "outputs": [],
   "source": []
  },
  {
   "cell_type": "markdown",
   "metadata": {},
   "source": [
    "# Grade Levels by School"
   ]
  },
  {
   "cell_type": "markdown",
   "metadata": {},
   "source": [
    "## Hybrid"
   ]
  },
  {
   "cell_type": "code",
   "execution_count": 65,
   "metadata": {
    "jupyter": {
     "source_hidden": true
    }
   },
   "outputs": [],
   "source": [
    "df_hybrid_group = df_hybrid_only.groupby(\"Grade Applied To\").count()[[\"School Applied To\"]].reset_index()"
   ]
  },
  {
   "cell_type": "code",
   "execution_count": 66,
   "metadata": {
    "jupyter": {
     "source_hidden": true
    }
   },
   "outputs": [
    {
     "data": {
      "image/png": "[encoded data removed]",
      "text/plain": [
       "<Figure size 1080x720 with 1 Axes>"
      ]
     },
     "metadata": {
      "needs_background": "light"
     },
     "output_type": "display_data"
    }
   ],
   "source": [
    "x_hybrid = df_hybrid_group[\"Grade Applied To\"].tolist()\n",
    "y_hybrid = df_hybrid_group[\"School Applied To\"].tolist()\n",
    "\n",
    "x_hybrid = [str(j) for j in x_hybrid]\n",
    "\n",
    "x_pos = [str(i) for i,_ in enumerate(x_hybrid)]\n",
    "\n",
    "fig = plt.figure(figsize = (15,10))\n",
    "\n",
    "plt.bar(x_hybrid, y_hybrid, color=\"tomato\")\n",
    "plt.xlabel(\"Grade Level\",weight = \"bold\")\n",
    "plt.ylabel(\"Total\",weight = \"bold\")\n",
    "\n",
    "#plt.xticks(x_pos,x_hybrid)\n",
    "plt.title(\"USC Hybrid High School SY19-20 Grade Level\",weight = \"bold\")\n",
    "\n",
    "# Add labels on top of bar chart\n",
    "for i, v in enumerate(y_hybrid):\n",
    "    plt.text(int(x_pos[i])-0.05, v+10, str(v))\n",
    "\n",
    "plt.show()"
   ]
  },
  {
   "cell_type": "markdown",
   "metadata": {},
   "source": [
    "## East"
   ]
  },
  {
   "cell_type": "code",
   "execution_count": 67,
   "metadata": {
    "jupyter": {
     "source_hidden": true
    }
   },
   "outputs": [],
   "source": [
    "df_east_group = df_east_only.groupby(\"Grade Applied To\").count()[[\"School Applied To\"]].reset_index()"
   ]
  },
  {
   "cell_type": "code",
   "execution_count": 68,
   "metadata": {},
   "outputs": [
    {
     "data": {
      "image/png": "[encoded data removed]",
      "text/plain": [
       "<Figure size 1080x720 with 1 Axes>"
      ]
     },
     "metadata": {
      "needs_background": "light"
     },
     "output_type": "display_data"
    }
   ],
   "source": [
    "x_east = df_east_group[\"Grade Applied To\"].tolist()\n",
    "y_east = df_east_group[\"School Applied To\"].tolist()\n",
    "\n",
    "x_east = [str(j) for j in x_east]\n",
    "\n",
    "x_pos = [str(i) for i,_ in enumerate(x_east)]\n",
    "\n",
    "fig = plt.figure(figsize = (15,10))\n",
    "\n",
    "plt.bar(x_east, y_east, color=\"lightsteelblue\")\n",
    "plt.xlabel(\"Grade Level\",weight = \"bold\")\n",
    "plt.ylabel(\"Total\",weight = \"bold\")\n",
    "\n",
    "#plt.xticks(x_pos,x_hybrid)\n",
    "plt.title(\"East College Prep SY19-20 Grade Level\",weight = \"bold\")\n",
    "\n",
    "# Add labels on top of bar chart\n",
    "for i, v in enumerate(y_east):\n",
    "    plt.text(int(x_pos[i])-0.05, v+2, str(v))\n",
    "\n",
    "plt.show()"
   ]
  },
  {
   "cell_type": "markdown",
   "metadata": {},
   "source": [
    "## Esperanza"
   ]
  },
  {
   "cell_type": "code",
   "execution_count": 69,
   "metadata": {
    "jupyter": {
     "source_hidden": true
    }
   },
   "outputs": [],
   "source": [
    "df_esperanza_group = df_esperanza_only.groupby(\"Grade Applied To\").count()[[\"School Applied To\"]].reset_index()"
   ]
  },
  {
   "cell_type": "code",
   "execution_count": 70,
   "metadata": {
    "jupyter": {
     "source_hidden": true
    }
   },
   "outputs": [
    {
     "data": {
      "image/png": "[encoded data removed]",
      "text/plain": [
       "<Figure size 1080x720 with 1 Axes>"
      ]
     },
     "metadata": {
      "needs_background": "light"
     },
     "output_type": "display_data"
    }
   ],
   "source": [
    "x_esperanza = df_esperanza_group[\"Grade Applied To\"].tolist()\n",
    "y_esperanza = df_esperanza_group[\"School Applied To\"].tolist()\n",
    "\n",
    "x_esperanza = [str(j) for j in x_esperanza]\n",
    "\n",
    "x_pos = [str(i) for i,_ in enumerate(x_esperanza)]\n",
    "\n",
    "fig = plt.figure(figsize = (15,10))\n",
    "\n",
    "plt.bar(x_esperanza, y_esperanza, color=\"darkorange\")\n",
    "plt.xlabel(\"Grade Level\",weight = \"bold\")\n",
    "plt.ylabel(\"Total\",weight = \"bold\")\n",
    "\n",
    "#plt.xticks(x_pos,x_hybrid)\n",
    "plt.title(\"East College Prep SY19-20 Grade Level\",weight = \"bold\")\n",
    "\n",
    "# Add labels on top of bar chart\n",
    "for i, v in enumerate(y_esperanza):\n",
    "    plt.text(int(x_pos[i])-0.05, v+2, str(v))\n",
    "\n",
    "plt.show()"
   ]
  },
  {
   "cell_type": "markdown",
   "metadata": {},
   "source": [
    "## Brio"
   ]
  },
  {
   "cell_type": "code",
   "execution_count": 71,
   "metadata": {
    "jupyter": {
     "source_hidden": true
    }
   },
   "outputs": [],
   "source": [
    "df_brio_group = df_brio_only.groupby(\"Grade Applied To\").count()[[\"School Applied To\"]].reset_index()"
   ]
  },
  {
   "cell_type": "code",
   "execution_count": 72,
   "metadata": {
    "jupyter": {
     "source_hidden": true
    }
   },
   "outputs": [
    {
     "data": {
      "image/png": "[encoded data removed]",
      "text/plain": [
       "<Figure size 1080x720 with 1 Axes>"
      ]
     },
     "metadata": {
      "needs_background": "light"
     },
     "output_type": "display_data"
    }
   ],
   "source": [
    "x_brio = df_brio_group[\"Grade Applied To\"].tolist()\n",
    "y_brio = df_brio_group[\"School Applied To\"].tolist()\n",
    "\n",
    "x_brio = [str(j) for j in x_brio]\n",
    "\n",
    "x_pos = [str(i) for i,_ in enumerate(x_brio)]\n",
    "\n",
    "fig = plt.figure(figsize = (15,10))\n",
    "\n",
    "plt.bar(x_brio, y_brio, color=\"royalblue\")\n",
    "plt.xlabel(\"Grade Level\",weight = \"bold\")\n",
    "plt.ylabel(\"Total\",weight = \"bold\")\n",
    "\n",
    "#plt.xticks(x_pos,x_hybrid)\n",
    "plt.title(\"East College Prep SY19-20 Grade Level\",weight = \"bold\")\n",
    "\n",
    "# Add labels on top of bar chart\n",
    "for i, v in enumerate(y_brio):\n",
    "    plt.text(int(x_pos[i])-0.05, v+2, str(v))\n",
    "\n",
    "plt.show()"
   ]
  },
  {
   "cell_type": "markdown",
   "metadata": {},
   "source": [
    "## Legacy"
   ]
  },
  {
   "cell_type": "code",
   "execution_count": 73,
   "metadata": {
    "jupyter": {
     "source_hidden": true
    }
   },
   "outputs": [],
   "source": [
    "df_legacy_group = df_legacy_only.groupby(\"Grade Applied To\").count()[[\"School Applied To\"]].reset_index()"
   ]
  },
  {
   "cell_type": "code",
   "execution_count": 74,
   "metadata": {},
   "outputs": [
    {
     "data": {
      "image/png": "[encoded data removed]",
      "text/plain": [
       "<Figure size 1080x720 with 1 Axes>"
      ]
     },
     "metadata": {
      "needs_background": "light"
     },
     "output_type": "display_data"
    }
   ],
   "source": [
    "x_legacy = df_legacy_group[\"Grade Applied To\"].tolist()\n",
    "y_legacy = df_legacy_group[\"School Applied To\"].tolist()\n",
    "\n",
    "x_legacy = [str(j) for j in x_legacy]\n",
    "\n",
    "x_pos = [str(i) for i,_ in enumerate(x_legacy)]\n",
    "\n",
    "fig = plt.figure(figsize = (15,10))\n",
    "\n",
    "plt.bar(x_legacy, y_legacy, color=\"purple\")\n",
    "plt.xlabel(\"Grade Level\",weight = \"bold\")\n",
    "plt.ylabel(\"Total\",weight = \"bold\")\n",
    "\n",
    "#plt.xticks(x_pos,x_hybrid)\n",
    "plt.title(\"East College Prep SY19-20 Grade Level\",weight = \"bold\")\n",
    "\n",
    "# Add labels on top of bar chart\n",
    "for i, v in enumerate(y_legacy):\n",
    "    plt.text(int(x_pos[i])-0.05, v+2, str(v))\n",
    "\n",
    "plt.show()"
   ]
  },
  {
   "cell_type": "markdown",
   "metadata": {},
   "source": [
    "## All Schools"
   ]
  },
  {
   "cell_type": "code",
   "execution_count": 75,
   "metadata": {},
   "outputs": [],
   "source": [
    "y_esperanza.append(0)\n",
    "y_brio.append(0)\n",
    "# y_esperanza\n",
    "# y_brio"
   ]
  },
  {
   "cell_type": "code",
   "execution_count": 76,
   "metadata": {},
   "outputs": [],
   "source": [
    "labels = df[\"Grade Applied To\"].drop_duplicates().to_list()\n",
    "hybrid = [y_hybrid[0], y_hybrid[1], y_hybrid[2], y_hybrid[3]]\n",
    "esperanza = [y_esperanza[0], y_esperanza[1], y_esperanza[2], y_esperanza[3]]\n",
    "east =  [y_east[0], y_east[1], y_east[2], y_east[3]]\n",
    "legacy  = [y_legacy[0], y_legacy[1], y_legacy[2], y_legacy[3]]\n",
    "brio  = [y_brio[0], y_brio[1], y_brio[2], y_brio[3]]\n",
    "x = np.arange(len(labels))\n",
    "width = 0.15"
   ]
  },
  {
   "cell_type": "code",
   "execution_count": 77,
   "metadata": {},
   "outputs": [],
   "source": [
    "labels.sort()"
   ]
  },
  {
   "cell_type": "code",
   "execution_count": 78,
   "metadata": {},
   "outputs": [
    {
     "data": {
      "image/png": "[encoded data removed]",
      "text/plain": [
       "<Figure size 1440x576 with 1 Axes>"
      ]
     },
     "metadata": {
      "needs_background": "light"
     },
     "output_type": "display_data"
    }
   ],
   "source": [
    "fig,ax = plt.subplots(figsize= (20,8))\n",
    "rect1 = ax.bar(x-width*1.5, hybrid,width,color=\"tomato\", label = \"Hybrid\")\n",
    "rect2 = ax.bar(x-width/2, esperanza,width,color=\"darkorange\",label = \"Esperanza\")\n",
    "rect3 = ax.bar(x+width/2, east,width, color = \"lightsteelblue\", label = \"East\")\n",
    "rect4 = ax.bar(x+width*1.5, legacy,width, color=\"purple\", label = \"Legacy\")\n",
    "rect5 = ax.bar(x+width*2.5, brio,width,color = \"royalblue\", label = \"Brio\")\n",
    "\n",
    "ax.set_ylabel('Total')\n",
    "ax.set_xlabel(\"Grade Level\")\n",
    "ax.set_title('Grade Level Application by School SY19-20')\n",
    "ax.set_xticks(x)\n",
    "ax.set_xticklabels(labels)\n",
    "ax.legend()\n",
    "\n",
    "autolabel(rect1)\n",
    "autolabel(rect2)\n",
    "autolabel(rect3)\n",
    "autolabel(rect4)\n",
    "autolabel(rect5)\n",
    "\n",
    "fig.tight_layout()\n",
    "#fig.savefig(\"Application_Type\")\n",
    "plt.show()"
   ]
  },
  {
   "cell_type": "markdown",
   "metadata": {},
   "source": [
    "# New Graphs"
   ]
  },
  {
   "cell_type": "code",
   "execution_count": 83,
   "metadata": {},
   "outputs": [
    {
     "data": {
      "text/html": [
       "<div>\n",
       "<style scoped>\n",
       "    .dataframe tbody tr th:only-of-type {\n",
       "        vertical-align: middle;\n",
       "    }\n",
       "\n",
       "    .dataframe tbody tr th {\n",
       "        vertical-align: top;\n",
       "    }\n",
       "\n",
       "    .dataframe thead th {\n",
       "        text-align: right;\n",
       "    }\n",
       "</style>\n",
       "<table border=\"1\" class=\"dataframe\">\n",
       "  <thead>\n",
       "    <tr style=\"text-align: right;\">\n",
       "      <th></th>\n",
       "      <th>Email</th>\n",
       "      <th>Lives With</th>\n",
       "      <th>Date Submitted</th>\n",
       "      <th>Offered Date</th>\n",
       "      <th>Offer Accepted Date</th>\n",
       "      <th>Current Grade</th>\n",
       "      <th>Grade Applied To</th>\n",
       "      <th>School Applied To</th>\n",
       "      <th>Current School</th>\n",
       "      <th>Current School District</th>\n",
       "      <th>...</th>\n",
       "      <th>Parent Name</th>\n",
       "      <th>Address</th>\n",
       "      <th>Birthday</th>\n",
       "      <th>Gender</th>\n",
       "      <th>Contact Number</th>\n",
       "      <th>Application Type</th>\n",
       "      <th>Status</th>\n",
       "      <th>Time Stamp</th>\n",
       "      <th>Updated</th>\n",
       "      <th>Seperated Status</th>\n",
       "    </tr>\n",
       "  </thead>\n",
       "  <tbody>\n",
       "    <tr>\n",
       "      <th>0</th>\n",
       "      <td>hildaj06@outlook.com</td>\n",
       "      <td>MO|FA</td>\n",
       "      <td>09/04/2018 05:55:07 PDT</td>\n",
       "      <td></td>\n",
       "      <td></td>\n",
       "      <td>8.0</td>\n",
       "      <td>9</td>\n",
       "      <td>USC Hybrid High School</td>\n",
       "      <td></td>\n",
       "      <td>Los Angeles Unified School District</td>\n",
       "      <td>...</td>\n",
       "      <td>Hilda Javier</td>\n",
       "      <td>2741 Van Buren Pl Apt 02 90007 CA Los Angeles</td>\n",
       "      <td>11/20/05</td>\n",
       "      <td>Male</td>\n",
       "      <td>(323) 928-8844</td>\n",
       "      <td>Open Enrollment</td>\n",
       "      <td>Waitlisted-682</td>\n",
       "      <td>2019-02-12 18:46:31</td>\n",
       "      <td>2019-12-03 13:41:48</td>\n",
       "      <td>Waitlisted</td>\n",
       "    </tr>\n",
       "    <tr>\n",
       "      <th>1</th>\n",
       "      <td>malvagrant@yahoo.com</td>\n",
       "      <td>MO|FA</td>\n",
       "      <td>09/04/2018 06:01:24 PDT</td>\n",
       "      <td></td>\n",
       "      <td></td>\n",
       "      <td>8.0</td>\n",
       "      <td>9</td>\n",
       "      <td>USC Hybrid High School</td>\n",
       "      <td></td>\n",
       "      <td>Los Angeles Unified School District</td>\n",
       "      <td>...</td>\n",
       "      <td>Malva Palacio- Grant</td>\n",
       "      <td>622 W 77th St Apt 6 90044 CA Los Angeles</td>\n",
       "      <td>07/24/04</td>\n",
       "      <td>Female</td>\n",
       "      <td>(323) 527-6738</td>\n",
       "      <td>Open Enrollment</td>\n",
       "      <td>Waitlisted-307</td>\n",
       "      <td>2019-02-12 18:46:09</td>\n",
       "      <td>2019-12-03 13:41:09</td>\n",
       "      <td>Waitlisted</td>\n",
       "    </tr>\n",
       "    <tr>\n",
       "      <th>2</th>\n",
       "      <td>3234453696@schoolmint.net</td>\n",
       "      <td>MO</td>\n",
       "      <td>09/04/2018 07:59:07 PDT</td>\n",
       "      <td></td>\n",
       "      <td></td>\n",
       "      <td>10.0</td>\n",
       "      <td>11</td>\n",
       "      <td>USC Hybrid High School</td>\n",
       "      <td></td>\n",
       "      <td>Los Angeles Unified School District</td>\n",
       "      <td>...</td>\n",
       "      <td>Terrea Moore</td>\n",
       "      <td>4126 2nd Avenue   90008 CA Los Angeles</td>\n",
       "      <td>04/21/03</td>\n",
       "      <td>Male</td>\n",
       "      <td>(323) 445-3696</td>\n",
       "      <td>Open Enrollment</td>\n",
       "      <td>Waitlisted-22</td>\n",
       "      <td>2019-02-12 18:29:20</td>\n",
       "      <td>2019-10-28 15:54:12</td>\n",
       "      <td>Waitlisted</td>\n",
       "    </tr>\n",
       "    <tr>\n",
       "      <th>3</th>\n",
       "      <td>dalamonte4@gmail.com</td>\n",
       "      <td>FA</td>\n",
       "      <td>09/04/2018 08:53:43 PDT</td>\n",
       "      <td></td>\n",
       "      <td></td>\n",
       "      <td>8.0</td>\n",
       "      <td>9</td>\n",
       "      <td>USC Hybrid High School</td>\n",
       "      <td></td>\n",
       "      <td>Los Angeles Unified School District</td>\n",
       "      <td>...</td>\n",
       "      <td>Davion Brown</td>\n",
       "      <td>735 1/2 W 42nd St   90037 CA Los Angeles</td>\n",
       "      <td>03/18/05</td>\n",
       "      <td>Female</td>\n",
       "      <td>(323) 353-4559</td>\n",
       "      <td>Open Enrollment</td>\n",
       "      <td>Waitlisted-665</td>\n",
       "      <td>2019-02-12 18:46:30</td>\n",
       "      <td>2019-12-03 13:41:46</td>\n",
       "      <td>Waitlisted</td>\n",
       "    </tr>\n",
       "    <tr>\n",
       "      <th>4</th>\n",
       "      <td>teresanonoal@gmail.com</td>\n",
       "      <td>MO</td>\n",
       "      <td>09/04/2018 09:14:57 PDT</td>\n",
       "      <td></td>\n",
       "      <td></td>\n",
       "      <td>9.0</td>\n",
       "      <td>9</td>\n",
       "      <td>USC Hybrid High School</td>\n",
       "      <td></td>\n",
       "      <td>Los Angeles Unified School District</td>\n",
       "      <td>...</td>\n",
       "      <td>Theresa Nonoal</td>\n",
       "      <td>212 E 30th St   90011 CA Los Angeles</td>\n",
       "      <td>07/15/04</td>\n",
       "      <td>Female</td>\n",
       "      <td>(232) 620-8391</td>\n",
       "      <td>Open Enrollment</td>\n",
       "      <td>Waitlisted-42</td>\n",
       "      <td>2019-02-12 18:45:53</td>\n",
       "      <td>2019-12-03 13:40:40</td>\n",
       "      <td>Waitlisted</td>\n",
       "    </tr>\n",
       "  </tbody>\n",
       "</table>\n",
       "<p>5 rows × 22 columns</p>\n",
       "</div>"
      ],
      "text/plain": [
       "                       Email Lives With           Date Submitted Offered Date  \\\n",
       "0       hildaj06@outlook.com      MO|FA  09/04/2018 05:55:07 PDT                \n",
       "1       malvagrant@yahoo.com      MO|FA  09/04/2018 06:01:24 PDT                \n",
       "2  3234453696@schoolmint.net         MO  09/04/2018 07:59:07 PDT                \n",
       "3       dalamonte4@gmail.com         FA  09/04/2018 08:53:43 PDT                \n",
       "4     teresanonoal@gmail.com         MO  09/04/2018 09:14:57 PDT                \n",
       "\n",
       "  Offer Accepted Date Current Grade  Grade Applied To       School Applied To  \\\n",
       "0                               8.0                 9  USC Hybrid High School   \n",
       "1                               8.0                 9  USC Hybrid High School   \n",
       "2                              10.0                11  USC Hybrid High School   \n",
       "3                               8.0                 9  USC Hybrid High School   \n",
       "4                               9.0                 9  USC Hybrid High School   \n",
       "\n",
       "  Current School              Current School District  ...  \\\n",
       "0                 Los Angeles Unified School District  ...   \n",
       "1                 Los Angeles Unified School District  ...   \n",
       "2                 Los Angeles Unified School District  ...   \n",
       "3                 Los Angeles Unified School District  ...   \n",
       "4                 Los Angeles Unified School District  ...   \n",
       "\n",
       "            Parent Name                                        Address  \\\n",
       "0          Hilda Javier  2741 Van Buren Pl Apt 02 90007 CA Los Angeles   \n",
       "1  Malva Palacio- Grant       622 W 77th St Apt 6 90044 CA Los Angeles   \n",
       "2          Terrea Moore         4126 2nd Avenue   90008 CA Los Angeles   \n",
       "3          Davion Brown       735 1/2 W 42nd St   90037 CA Los Angeles   \n",
       "4        Theresa Nonoal           212 E 30th St   90011 CA Los Angeles   \n",
       "\n",
       "   Birthday  Gender  Contact Number Application Type          Status  \\\n",
       "0  11/20/05    Male  (323) 928-8844  Open Enrollment  Waitlisted-682   \n",
       "1  07/24/04  Female  (323) 527-6738  Open Enrollment  Waitlisted-307   \n",
       "2  04/21/03    Male  (323) 445-3696  Open Enrollment   Waitlisted-22   \n",
       "3  03/18/05  Female  (323) 353-4559  Open Enrollment  Waitlisted-665   \n",
       "4  07/15/04  Female  (232) 620-8391  Open Enrollment   Waitlisted-42   \n",
       "\n",
       "            Time Stamp              Updated Seperated Status  \n",
       "0  2019-02-12 18:46:31  2019-12-03 13:41:48       Waitlisted  \n",
       "1  2019-02-12 18:46:09  2019-12-03 13:41:09       Waitlisted  \n",
       "2  2019-02-12 18:29:20  2019-10-28 15:54:12       Waitlisted  \n",
       "3  2019-02-12 18:46:30  2019-12-03 13:41:46       Waitlisted  \n",
       "4  2019-02-12 18:45:53  2019-12-03 13:40:40       Waitlisted  \n",
       "\n",
       "[5 rows x 22 columns]"
      ]
     },
     "execution_count": 83,
     "metadata": {},
     "output_type": "execute_result"
    }
   ],
   "source": [
    "df_hybrid_only.head()"
   ]
  },
  {
   "cell_type": "code",
   "execution_count": 90,
   "metadata": {},
   "outputs": [],
   "source": [
    "hybrid_grouped = df_hybrid_only.groupby(\"Seperated Status\").count()[[\"School Applied To\"]].reset_index().sort_values(by = \"School Applied To\",ascending = False)"
   ]
  },
  {
   "cell_type": "code",
   "execution_count": 101,
   "metadata": {},
   "outputs": [],
   "source": [
    "x_hybrid = hybrid_grouped[\"Seperated Status\"]\n",
    "y_hybrid = hybrid_grouped[\"School Applied To\"]"
   ]
  },
  {
   "cell_type": "code",
   "execution_count": 119,
   "metadata": {},
   "outputs": [
    {
     "data": {
      "image/png": "[encoded data removed]",
      "text/plain": [
       "<Figure size 1440x576 with 1 Axes>"
      ]
     },
     "metadata": {
      "needs_background": "light"
     },
     "output_type": "display_data"
    }
   ],
   "source": [
    "x_hybrid = [str(j) for j in x_hybrid]\n",
    "\n",
    "x_pos = [i for i,_ in enumerate(x_hybrid)]\n",
    "\n",
    "plt.figure(figsize = (20,8))\n",
    "plt.bar(x_hybrid,y_hybrid,color = \"tomato\")\n",
    "plt.xlabel(\"Application Status\")\n",
    "plt.ylabel(\"Total\")\n",
    "plt.title(\"USC Hybrid High School Application Status SY19-20\")\n",
    "\n",
    "for i,v in enumerate(y_hybrid):\n",
    "    plt.text(x_pos[i]-0.04,v+5,str(v))\n",
    "\n",
    "plt.show()"
   ]
  },
  {
   "cell_type": "code",
   "execution_count": null,
   "metadata": {},
   "outputs": [],
   "source": []
  },
  {
   "cell_type": "code",
   "execution_count": null,
   "metadata": {},
   "outputs": [],
   "source": []
  },
  {
   "cell_type": "code",
   "execution_count": null,
   "metadata": {},
   "outputs": [],
   "source": []
  },
  {
   "cell_type": "code",
   "execution_count": null,
   "metadata": {},
   "outputs": [],
   "source": []
  },
  {
   "cell_type": "code",
   "execution_count": null,
   "metadata": {},
   "outputs": [],
   "source": []
  },
  {
   "cell_type": "code",
   "execution_count": null,
   "metadata": {},
   "outputs": [],
   "source": []
  },
  {
   "cell_type": "code",
   "execution_count": null,
   "metadata": {},
   "outputs": [],
   "source": []
  },
  {
   "cell_type": "code",
   "execution_count": null,
   "metadata": {},
   "outputs": [],
   "source": []
  },
  {
   "cell_type": "code",
   "execution_count": null,
   "metadata": {},
   "outputs": [],
   "source": []
  }
 ],
 "metadata": {
  "kernelspec": {
   "display_name": "Python 3",
   "language": "python",
   "name": "python3"
  },
  "language_info": {
   "codemirror_mode": {
    "name": "ipython",
    "version": 3
   },
   "file_extension": ".py",
   "mimetype": "text/x-python",
   "name": "python",
   "nbconvert_exporter": "python",
   "pygments_lexer": "ipython3",
   "version": "3.7.3"
  }
 },
 "nbformat": 4,
 "nbformat_minor": 4
}
